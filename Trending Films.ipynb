{
 "cells": [
  {
   "attachments": {},
   "cell_type": "markdown",
   "id": "e49585eb",
   "metadata": {},
   "source": [
    "## 1.Business Understanding"
   ]
  },
  {
   "attachments": {},
   "cell_type": "markdown",
   "id": "1166fee9",
   "metadata": {},
   "source": [
    "### A. Introduction\n",
    "A Box office is simply a movie theater, where tickets can be purchased or reserved.When people discuss the box office sucess, they are talking to how successful a movie or play is in terms of how many people go see it or how much money it makes.A captivating plot, a well-written script, excellent actors who can connect with the audience, a visionary director working with a director of photography and editor, and so on are just a few of the common elements that make a movie a box office success.\n",
    "\n",
    "Whenever movies gross a lot of profit and income ,they attract a lot of investors..The bigger the audience the bigger the profit the movie makes.An investor must consider additional revenue sources while keeping in mind historical box office trends.For instance certain actors can be trusted to provide good money at the box office when they have provided 2-3 hit movies.However, given that audience tastes and preferences have changed, a celebrity alone is no longer sufficient.\n",
    "\n",
    "Sometimes a movie's marketing costs will match or even exceed its actual production costs. These days, a movie's fate may be determined by its marketing, or it may dangle in the balance while going ignored among hundreds of other comparable movies. A great marketing strategy can change everything. Given the increased rivalry in the film industry, it is critical for an investor to do their homework on production companies, get to know their owners, and be passionate about movies in general. It is better to know more.\n",
    "\n",
    "Investors are increasingly turning to quantitative analysis and machine learning approaches to not only forecast audience tastes but also their preferences due to the development of technology and the accessibility of enormous amounts of  data. Using a variety of market-specific characteristics, including movie ratings, reviews, and budget, I hope to create conclusions on the kind of movies that are performing the best at the box office in this research. The project's findings may offer insightful information about tastes and preferences of the audience, enabling investors to make well-informed investment decisions.\n"
   ]
  },
  {
   "attachments": {},
   "cell_type": "markdown",
   "id": "302c30b8",
   "metadata": {},
   "source": [
    "### B.Problem statement\n",
    "The Microsoft Corporation creates and sells software, services, and hardware that give people's lives additional opportunities, convenience, and value.And in order to continue improving peoples lives ,the company has decided to create a movie studio ,a trend being done by the big companies.However Microsoft face a huge problem which is, being a new project they dont know how to create better movies that will capture the audience.My research aims to offer investors and other business stakeholders a useful tool for making more informed choices concerning the production of profit making films.Even though a project may appear promising on paper, you must still pay attention to the small print, since customers still require high-quality entertainment"
   ]
  },
  {
   "attachments": {},
   "cell_type": "markdown",
   "id": "702aee77",
   "metadata": {},
   "source": [
    "### C.Main objective\n",
    "To create and implement a predictive study using data analysis and machine learning methods in order to precisely predict the type  of movies that will generate a  high revenue at the box office."
   ]
  },
  {
   "attachments": {},
   "cell_type": "markdown",
   "id": "cc25c8b4",
   "metadata": {},
   "source": [
    "### D.Specific Objectives\n",
    " * To help understand the audience reviews in order to get a better understanding of their ever changing tastes and preferences. \n",
    "* To understand why how production budget and total gross of a film are related and how they affect each other.\n",
    "* To help understand how ratings relate to the popularity of the movies. \n",
    "\n",
    "* To help understand how popularity of a film ,can pave way to a larger market both domestically and worldwide ."
   ]
  },
  {
   "attachments": {},
   "cell_type": "markdown",
   "id": "4b6ed214",
   "metadata": {},
   "source": [
    "\n",
    "## 2. Data Understanding\n",
    "The IMDB dataset files can be accessed and downloaded from https://datasets.imdbws.com/. The data is free and refreshed daily.Various sources, including directors, film studios, on-screen credits, and other official sources, provide information for IMDb. But a lot of the data originates from IMDb users, who can add information in wiki-style format.\n",
    "I used a total of 4 datasets from the imdb datasets which are as follows:\n",
    "\n",
    "  - The movie dataset has 26517 rows and a total of 10 columns.It contains the films general information like original title and    the films ID.\n",
    "  - The ratings datset has 73856 rows and 3 colums.It simply contains ratings of the films given by the viewers ranging from 0-     10.\n",
    "  - The budget datset has 5782 rows and 6 colums.It contains the production budget and the gross revenue both domestic and           worldwide.\n",
    "  - The gross revenue  datset has 3387 rows and 5 colums.It contains the foreign and domestic gross information of the films."
   ]
  },
  {
   "attachments": {},
   "cell_type": "markdown",
   "id": "7daff369",
   "metadata": {},
   "source": [
    "## 3. Importing libraries"
   ]
  },
  {
   "cell_type": "code",
   "execution_count": 2,
   "id": "51f458d1",
   "metadata": {},
   "outputs": [],
   "source": [
    "# importing relevant libraries\n",
    "import pandas as pd\n",
    "import numpy as np\n",
    "import matplotlib.pyplot as plt\n",
    "import seaborn as sns"
   ]
  },
  {
   "attachments": {},
   "cell_type": "markdown",
   "id": "332024d1",
   "metadata": {},
   "source": [
    "##  4.Reading the data from the imdb datasets"
   ]
  },
  {
   "cell_type": "code",
   "execution_count": 3,
   "id": "7dfa1cf0",
   "metadata": {
    "scrolled": false
   },
   "outputs": [
    {
     "data": {
      "text/html": [
       "<div>\n",
       "<style scoped>\n",
       "    .dataframe tbody tr th:only-of-type {\n",
       "        vertical-align: middle;\n",
       "    }\n",
       "\n",
       "    .dataframe tbody tr th {\n",
       "        vertical-align: top;\n",
       "    }\n",
       "\n",
       "    .dataframe thead th {\n",
       "        text-align: right;\n",
       "    }\n",
       "</style>\n",
       "<table border=\"1\" class=\"dataframe\">\n",
       "  <thead>\n",
       "    <tr style=\"text-align: right;\">\n",
       "      <th></th>\n",
       "      <th>Unnamed: 0</th>\n",
       "      <th>genre_ids</th>\n",
       "      <th>id</th>\n",
       "      <th>original_language</th>\n",
       "      <th>original_title</th>\n",
       "      <th>popularity</th>\n",
       "      <th>release_date</th>\n",
       "      <th>title</th>\n",
       "      <th>vote_average</th>\n",
       "      <th>vote_count</th>\n",
       "    </tr>\n",
       "  </thead>\n",
       "  <tbody>\n",
       "    <tr>\n",
       "      <th>0</th>\n",
       "      <td>0</td>\n",
       "      <td>[12, 14, 10751]</td>\n",
       "      <td>12444</td>\n",
       "      <td>en</td>\n",
       "      <td>Harry Potter and the Deathly Hallows: Part 1</td>\n",
       "      <td>33.533</td>\n",
       "      <td>2010-11-19</td>\n",
       "      <td>Harry Potter and the Deathly Hallows: Part 1</td>\n",
       "      <td>7.7</td>\n",
       "      <td>10788</td>\n",
       "    </tr>\n",
       "    <tr>\n",
       "      <th>1</th>\n",
       "      <td>1</td>\n",
       "      <td>[14, 12, 16, 10751]</td>\n",
       "      <td>10191</td>\n",
       "      <td>en</td>\n",
       "      <td>How to Train Your Dragon</td>\n",
       "      <td>28.734</td>\n",
       "      <td>2010-03-26</td>\n",
       "      <td>How to Train Your Dragon</td>\n",
       "      <td>7.7</td>\n",
       "      <td>7610</td>\n",
       "    </tr>\n",
       "    <tr>\n",
       "      <th>2</th>\n",
       "      <td>2</td>\n",
       "      <td>[12, 28, 878]</td>\n",
       "      <td>10138</td>\n",
       "      <td>en</td>\n",
       "      <td>Iron Man 2</td>\n",
       "      <td>28.515</td>\n",
       "      <td>2010-05-07</td>\n",
       "      <td>Iron Man 2</td>\n",
       "      <td>6.8</td>\n",
       "      <td>12368</td>\n",
       "    </tr>\n",
       "    <tr>\n",
       "      <th>3</th>\n",
       "      <td>3</td>\n",
       "      <td>[16, 35, 10751]</td>\n",
       "      <td>862</td>\n",
       "      <td>en</td>\n",
       "      <td>Toy Story</td>\n",
       "      <td>28.005</td>\n",
       "      <td>1995-11-22</td>\n",
       "      <td>Toy Story</td>\n",
       "      <td>7.9</td>\n",
       "      <td>10174</td>\n",
       "    </tr>\n",
       "    <tr>\n",
       "      <th>4</th>\n",
       "      <td>4</td>\n",
       "      <td>[28, 878, 12]</td>\n",
       "      <td>27205</td>\n",
       "      <td>en</td>\n",
       "      <td>Inception</td>\n",
       "      <td>27.920</td>\n",
       "      <td>2010-07-16</td>\n",
       "      <td>Inception</td>\n",
       "      <td>8.3</td>\n",
       "      <td>22186</td>\n",
       "    </tr>\n",
       "  </tbody>\n",
       "</table>\n",
       "</div>"
      ],
      "text/plain": [
       "   Unnamed: 0            genre_ids     id original_language   \n",
       "0           0      [12, 14, 10751]  12444                en  \\\n",
       "1           1  [14, 12, 16, 10751]  10191                en   \n",
       "2           2        [12, 28, 878]  10138                en   \n",
       "3           3      [16, 35, 10751]    862                en   \n",
       "4           4        [28, 878, 12]  27205                en   \n",
       "\n",
       "                                 original_title  popularity release_date   \n",
       "0  Harry Potter and the Deathly Hallows: Part 1      33.533   2010-11-19  \\\n",
       "1                      How to Train Your Dragon      28.734   2010-03-26   \n",
       "2                                    Iron Man 2      28.515   2010-05-07   \n",
       "3                                     Toy Story      28.005   1995-11-22   \n",
       "4                                     Inception      27.920   2010-07-16   \n",
       "\n",
       "                                          title  vote_average  vote_count  \n",
       "0  Harry Potter and the Deathly Hallows: Part 1           7.7       10788  \n",
       "1                      How to Train Your Dragon           7.7        7610  \n",
       "2                                    Iron Man 2           6.8       12368  \n",
       "3                                     Toy Story           7.9       10174  \n",
       "4                                     Inception           8.3       22186  "
      ]
     },
     "execution_count": 3,
     "metadata": {},
     "output_type": "execute_result"
    }
   ],
   "source": [
    "#Loading data on movies info\n",
    "Movies= pd.read_csv(\"tmdb.movies.csv\")\n",
    "#previewing the first 5 rows\n",
    "Movies.head()"
   ]
  },
  {
   "cell_type": "code",
   "execution_count": 4,
   "id": "d4cd69fd",
   "metadata": {},
   "outputs": [
    {
     "data": {
      "text/html": [
       "<div>\n",
       "<style scoped>\n",
       "    .dataframe tbody tr th:only-of-type {\n",
       "        vertical-align: middle;\n",
       "    }\n",
       "\n",
       "    .dataframe tbody tr th {\n",
       "        vertical-align: top;\n",
       "    }\n",
       "\n",
       "    .dataframe thead th {\n",
       "        text-align: right;\n",
       "    }\n",
       "</style>\n",
       "<table border=\"1\" class=\"dataframe\">\n",
       "  <thead>\n",
       "    <tr style=\"text-align: right;\">\n",
       "      <th></th>\n",
       "      <th>Unnamed: 0</th>\n",
       "      <th>genre_ids</th>\n",
       "      <th>id</th>\n",
       "      <th>original_language</th>\n",
       "      <th>original_title</th>\n",
       "      <th>popularity</th>\n",
       "      <th>release_date</th>\n",
       "      <th>title</th>\n",
       "      <th>vote_average</th>\n",
       "      <th>vote_count</th>\n",
       "    </tr>\n",
       "  </thead>\n",
       "  <tbody>\n",
       "    <tr>\n",
       "      <th>26512</th>\n",
       "      <td>26512</td>\n",
       "      <td>[27, 18]</td>\n",
       "      <td>488143</td>\n",
       "      <td>en</td>\n",
       "      <td>Laboratory Conditions</td>\n",
       "      <td>0.6</td>\n",
       "      <td>2018-10-13</td>\n",
       "      <td>Laboratory Conditions</td>\n",
       "      <td>0.0</td>\n",
       "      <td>1</td>\n",
       "    </tr>\n",
       "    <tr>\n",
       "      <th>26513</th>\n",
       "      <td>26513</td>\n",
       "      <td>[18, 53]</td>\n",
       "      <td>485975</td>\n",
       "      <td>en</td>\n",
       "      <td>_EXHIBIT_84xxx_</td>\n",
       "      <td>0.6</td>\n",
       "      <td>2018-05-01</td>\n",
       "      <td>_EXHIBIT_84xxx_</td>\n",
       "      <td>0.0</td>\n",
       "      <td>1</td>\n",
       "    </tr>\n",
       "    <tr>\n",
       "      <th>26514</th>\n",
       "      <td>26514</td>\n",
       "      <td>[14, 28, 12]</td>\n",
       "      <td>381231</td>\n",
       "      <td>en</td>\n",
       "      <td>The Last One</td>\n",
       "      <td>0.6</td>\n",
       "      <td>2018-10-01</td>\n",
       "      <td>The Last One</td>\n",
       "      <td>0.0</td>\n",
       "      <td>1</td>\n",
       "    </tr>\n",
       "    <tr>\n",
       "      <th>26515</th>\n",
       "      <td>26515</td>\n",
       "      <td>[10751, 12, 28]</td>\n",
       "      <td>366854</td>\n",
       "      <td>en</td>\n",
       "      <td>Trailer Made</td>\n",
       "      <td>0.6</td>\n",
       "      <td>2018-06-22</td>\n",
       "      <td>Trailer Made</td>\n",
       "      <td>0.0</td>\n",
       "      <td>1</td>\n",
       "    </tr>\n",
       "    <tr>\n",
       "      <th>26516</th>\n",
       "      <td>26516</td>\n",
       "      <td>[53, 27]</td>\n",
       "      <td>309885</td>\n",
       "      <td>en</td>\n",
       "      <td>The Church</td>\n",
       "      <td>0.6</td>\n",
       "      <td>2018-10-05</td>\n",
       "      <td>The Church</td>\n",
       "      <td>0.0</td>\n",
       "      <td>1</td>\n",
       "    </tr>\n",
       "  </tbody>\n",
       "</table>\n",
       "</div>"
      ],
      "text/plain": [
       "       Unnamed: 0        genre_ids      id original_language   \n",
       "26512       26512         [27, 18]  488143                en  \\\n",
       "26513       26513         [18, 53]  485975                en   \n",
       "26514       26514     [14, 28, 12]  381231                en   \n",
       "26515       26515  [10751, 12, 28]  366854                en   \n",
       "26516       26516         [53, 27]  309885                en   \n",
       "\n",
       "              original_title  popularity release_date                  title   \n",
       "26512  Laboratory Conditions         0.6   2018-10-13  Laboratory Conditions  \\\n",
       "26513        _EXHIBIT_84xxx_         0.6   2018-05-01        _EXHIBIT_84xxx_   \n",
       "26514           The Last One         0.6   2018-10-01           The Last One   \n",
       "26515           Trailer Made         0.6   2018-06-22           Trailer Made   \n",
       "26516             The Church         0.6   2018-10-05             The Church   \n",
       "\n",
       "       vote_average  vote_count  \n",
       "26512           0.0           1  \n",
       "26513           0.0           1  \n",
       "26514           0.0           1  \n",
       "26515           0.0           1  \n",
       "26516           0.0           1  "
      ]
     },
     "execution_count": 4,
     "metadata": {},
     "output_type": "execute_result"
    }
   ],
   "source": [
    "#preview of the last entries\n",
    "Movies.tail(5)"
   ]
  },
  {
   "cell_type": "code",
   "execution_count": 5,
   "id": "3c37cd4b",
   "metadata": {},
   "outputs": [
    {
     "name": "stdout",
     "output_type": "stream",
     "text": [
      "<class 'pandas.core.frame.DataFrame'>\n",
      "RangeIndex: 26517 entries, 0 to 26516\n",
      "Data columns (total 10 columns):\n",
      " #   Column             Non-Null Count  Dtype  \n",
      "---  ------             --------------  -----  \n",
      " 0   Unnamed: 0         26517 non-null  int64  \n",
      " 1   genre_ids          26517 non-null  object \n",
      " 2   id                 26517 non-null  int64  \n",
      " 3   original_language  26517 non-null  object \n",
      " 4   original_title     26517 non-null  object \n",
      " 5   popularity         26517 non-null  float64\n",
      " 6   release_date       26517 non-null  object \n",
      " 7   title              26517 non-null  object \n",
      " 8   vote_average       26517 non-null  float64\n",
      " 9   vote_count         26517 non-null  int64  \n",
      "dtypes: float64(2), int64(3), object(5)\n",
      "memory usage: 2.0+ MB\n"
     ]
    }
   ],
   "source": [
    "#Summary \n",
    "Movies.info()"
   ]
  },
  {
   "cell_type": "code",
   "execution_count": 6,
   "id": "e9af6259",
   "metadata": {},
   "outputs": [
    {
     "data": {
      "text/plain": [
       "Unnamed: 0             int64\n",
       "genre_ids             object\n",
       "id                     int64\n",
       "original_language     object\n",
       "original_title        object\n",
       "popularity           float64\n",
       "release_date          object\n",
       "title                 object\n",
       "vote_average         float64\n",
       "vote_count             int64\n",
       "dtype: object"
      ]
     },
     "execution_count": 6,
     "metadata": {},
     "output_type": "execute_result"
    }
   ],
   "source": [
    "#checking the data types of the columns\n",
    "Movies.dtypes"
   ]
  },
  {
   "cell_type": "code",
   "execution_count": 7,
   "id": "e9cbfee7",
   "metadata": {},
   "outputs": [
    {
     "data": {
      "text/html": [
       "<div>\n",
       "<style scoped>\n",
       "    .dataframe tbody tr th:only-of-type {\n",
       "        vertical-align: middle;\n",
       "    }\n",
       "\n",
       "    .dataframe tbody tr th {\n",
       "        vertical-align: top;\n",
       "    }\n",
       "\n",
       "    .dataframe thead th {\n",
       "        text-align: right;\n",
       "    }\n",
       "</style>\n",
       "<table border=\"1\" class=\"dataframe\">\n",
       "  <thead>\n",
       "    <tr style=\"text-align: right;\">\n",
       "      <th></th>\n",
       "      <th>tconst</th>\n",
       "      <th>averagerating</th>\n",
       "      <th>numvotes</th>\n",
       "    </tr>\n",
       "  </thead>\n",
       "  <tbody>\n",
       "    <tr>\n",
       "      <th>0</th>\n",
       "      <td>tt10356526</td>\n",
       "      <td>8.3</td>\n",
       "      <td>31</td>\n",
       "    </tr>\n",
       "    <tr>\n",
       "      <th>1</th>\n",
       "      <td>tt10384606</td>\n",
       "      <td>8.9</td>\n",
       "      <td>559</td>\n",
       "    </tr>\n",
       "    <tr>\n",
       "      <th>2</th>\n",
       "      <td>tt1042974</td>\n",
       "      <td>6.4</td>\n",
       "      <td>20</td>\n",
       "    </tr>\n",
       "    <tr>\n",
       "      <th>3</th>\n",
       "      <td>tt1043726</td>\n",
       "      <td>4.2</td>\n",
       "      <td>50352</td>\n",
       "    </tr>\n",
       "    <tr>\n",
       "      <th>4</th>\n",
       "      <td>tt1060240</td>\n",
       "      <td>6.5</td>\n",
       "      <td>21</td>\n",
       "    </tr>\n",
       "  </tbody>\n",
       "</table>\n",
       "</div>"
      ],
      "text/plain": [
       "       tconst  averagerating  numvotes\n",
       "0  tt10356526            8.3        31\n",
       "1  tt10384606            8.9       559\n",
       "2   tt1042974            6.4        20\n",
       "3   tt1043726            4.2     50352\n",
       "4   tt1060240            6.5        21"
      ]
     },
     "execution_count": 7,
     "metadata": {},
     "output_type": "execute_result"
    }
   ],
   "source": [
    "#Loading data on ratings\n",
    "ratings =pd.read_csv(\"title.ratings.csv\")\n",
    "#previewing the first 5 rows\n",
    "ratings.head()"
   ]
  },
  {
   "cell_type": "code",
   "execution_count": 8,
   "id": "8e147c2f",
   "metadata": {},
   "outputs": [
    {
     "name": "stdout",
     "output_type": "stream",
     "text": [
      "<class 'pandas.core.frame.DataFrame'>\n",
      "RangeIndex: 73856 entries, 0 to 73855\n",
      "Data columns (total 3 columns):\n",
      " #   Column         Non-Null Count  Dtype  \n",
      "---  ------         --------------  -----  \n",
      " 0   tconst         73856 non-null  object \n",
      " 1   averagerating  73856 non-null  float64\n",
      " 2   numvotes       73856 non-null  int64  \n",
      "dtypes: float64(1), int64(1), object(1)\n",
      "memory usage: 1.7+ MB\n"
     ]
    }
   ],
   "source": [
    "#Summary\n",
    "ratings.info()"
   ]
  },
  {
   "cell_type": "code",
   "execution_count": 9,
   "id": "b6860178",
   "metadata": {},
   "outputs": [
    {
     "data": {
      "text/html": [
       "<div>\n",
       "<style scoped>\n",
       "    .dataframe tbody tr th:only-of-type {\n",
       "        vertical-align: middle;\n",
       "    }\n",
       "\n",
       "    .dataframe tbody tr th {\n",
       "        vertical-align: top;\n",
       "    }\n",
       "\n",
       "    .dataframe thead th {\n",
       "        text-align: right;\n",
       "    }\n",
       "</style>\n",
       "<table border=\"1\" class=\"dataframe\">\n",
       "  <thead>\n",
       "    <tr style=\"text-align: right;\">\n",
       "      <th></th>\n",
       "      <th>tconst</th>\n",
       "      <th>averagerating</th>\n",
       "      <th>numvotes</th>\n",
       "    </tr>\n",
       "  </thead>\n",
       "  <tbody>\n",
       "    <tr>\n",
       "      <th>73851</th>\n",
       "      <td>tt9805820</td>\n",
       "      <td>8.1</td>\n",
       "      <td>25</td>\n",
       "    </tr>\n",
       "    <tr>\n",
       "      <th>73852</th>\n",
       "      <td>tt9844256</td>\n",
       "      <td>7.5</td>\n",
       "      <td>24</td>\n",
       "    </tr>\n",
       "    <tr>\n",
       "      <th>73853</th>\n",
       "      <td>tt9851050</td>\n",
       "      <td>4.7</td>\n",
       "      <td>14</td>\n",
       "    </tr>\n",
       "    <tr>\n",
       "      <th>73854</th>\n",
       "      <td>tt9886934</td>\n",
       "      <td>7.0</td>\n",
       "      <td>5</td>\n",
       "    </tr>\n",
       "    <tr>\n",
       "      <th>73855</th>\n",
       "      <td>tt9894098</td>\n",
       "      <td>6.3</td>\n",
       "      <td>128</td>\n",
       "    </tr>\n",
       "  </tbody>\n",
       "</table>\n",
       "</div>"
      ],
      "text/plain": [
       "          tconst  averagerating  numvotes\n",
       "73851  tt9805820            8.1        25\n",
       "73852  tt9844256            7.5        24\n",
       "73853  tt9851050            4.7        14\n",
       "73854  tt9886934            7.0         5\n",
       "73855  tt9894098            6.3       128"
      ]
     },
     "execution_count": 9,
     "metadata": {},
     "output_type": "execute_result"
    }
   ],
   "source": [
    "#previewing the last rows\n",
    "ratings.tail()"
   ]
  },
  {
   "cell_type": "code",
   "execution_count": 10,
   "id": "fbde2892",
   "metadata": {},
   "outputs": [
    {
     "data": {
      "text/plain": [
       "tconst            object\n",
       "averagerating    float64\n",
       "numvotes           int64\n",
       "dtype: object"
      ]
     },
     "execution_count": 10,
     "metadata": {},
     "output_type": "execute_result"
    }
   ],
   "source": [
    "#checking the data types of the columns\n",
    "ratings.dtypes"
   ]
  },
  {
   "cell_type": "code",
   "execution_count": 11,
   "id": "4e1b26fa",
   "metadata": {
    "scrolled": false
   },
   "outputs": [
    {
     "data": {
      "text/html": [
       "<div>\n",
       "<style scoped>\n",
       "    .dataframe tbody tr th:only-of-type {\n",
       "        vertical-align: middle;\n",
       "    }\n",
       "\n",
       "    .dataframe tbody tr th {\n",
       "        vertical-align: top;\n",
       "    }\n",
       "\n",
       "    .dataframe thead th {\n",
       "        text-align: right;\n",
       "    }\n",
       "</style>\n",
       "<table border=\"1\" class=\"dataframe\">\n",
       "  <thead>\n",
       "    <tr style=\"text-align: right;\">\n",
       "      <th></th>\n",
       "      <th>id</th>\n",
       "      <th>release_date</th>\n",
       "      <th>movie</th>\n",
       "      <th>production_budget</th>\n",
       "      <th>domestic_gross</th>\n",
       "      <th>worldwide_gross</th>\n",
       "    </tr>\n",
       "  </thead>\n",
       "  <tbody>\n",
       "    <tr>\n",
       "      <th>0</th>\n",
       "      <td>1</td>\n",
       "      <td>Dec 18, 2009</td>\n",
       "      <td>Avatar</td>\n",
       "      <td>$425,000,000</td>\n",
       "      <td>$760,507,625</td>\n",
       "      <td>$2,776,345,279</td>\n",
       "    </tr>\n",
       "    <tr>\n",
       "      <th>1</th>\n",
       "      <td>2</td>\n",
       "      <td>May 20, 2011</td>\n",
       "      <td>Pirates of the Caribbean: On Stranger Tides</td>\n",
       "      <td>$410,600,000</td>\n",
       "      <td>$241,063,875</td>\n",
       "      <td>$1,045,663,875</td>\n",
       "    </tr>\n",
       "    <tr>\n",
       "      <th>2</th>\n",
       "      <td>3</td>\n",
       "      <td>Jun 7, 2019</td>\n",
       "      <td>Dark Phoenix</td>\n",
       "      <td>$350,000,000</td>\n",
       "      <td>$42,762,350</td>\n",
       "      <td>$149,762,350</td>\n",
       "    </tr>\n",
       "    <tr>\n",
       "      <th>3</th>\n",
       "      <td>4</td>\n",
       "      <td>May 1, 2015</td>\n",
       "      <td>Avengers: Age of Ultron</td>\n",
       "      <td>$330,600,000</td>\n",
       "      <td>$459,005,868</td>\n",
       "      <td>$1,403,013,963</td>\n",
       "    </tr>\n",
       "    <tr>\n",
       "      <th>4</th>\n",
       "      <td>5</td>\n",
       "      <td>Dec 15, 2017</td>\n",
       "      <td>Star Wars Ep. VIII: The Last Jedi</td>\n",
       "      <td>$317,000,000</td>\n",
       "      <td>$620,181,382</td>\n",
       "      <td>$1,316,721,747</td>\n",
       "    </tr>\n",
       "  </tbody>\n",
       "</table>\n",
       "</div>"
      ],
      "text/plain": [
       "   id  release_date                                        movie   \n",
       "0   1  Dec 18, 2009                                       Avatar  \\\n",
       "1   2  May 20, 2011  Pirates of the Caribbean: On Stranger Tides   \n",
       "2   3   Jun 7, 2019                                 Dark Phoenix   \n",
       "3   4   May 1, 2015                      Avengers: Age of Ultron   \n",
       "4   5  Dec 15, 2017            Star Wars Ep. VIII: The Last Jedi   \n",
       "\n",
       "  production_budget domestic_gross worldwide_gross  \n",
       "0      $425,000,000   $760,507,625  $2,776,345,279  \n",
       "1      $410,600,000   $241,063,875  $1,045,663,875  \n",
       "2      $350,000,000    $42,762,350    $149,762,350  \n",
       "3      $330,600,000   $459,005,868  $1,403,013,963  \n",
       "4      $317,000,000   $620,181,382  $1,316,721,747  "
      ]
     },
     "execution_count": 11,
     "metadata": {},
     "output_type": "execute_result"
    }
   ],
   "source": [
    "#Loading Budget dat\n",
    "budget =pd.read_csv(\"tn.movie_budgets.csv\")\n",
    "#previewing the first 5 rows\n",
    "budget.head()"
   ]
  },
  {
   "cell_type": "code",
   "execution_count": 12,
   "id": "54e9cfe8",
   "metadata": {},
   "outputs": [
    {
     "data": {
      "text/plain": [
       "id                    int64\n",
       "release_date         object\n",
       "movie                object\n",
       "production_budget    object\n",
       "domestic_gross       object\n",
       "worldwide_gross      object\n",
       "dtype: object"
      ]
     },
     "execution_count": 12,
     "metadata": {},
     "output_type": "execute_result"
    }
   ],
   "source": [
    "#checking the data types of the columns\n",
    "budget.dtypes"
   ]
  },
  {
   "cell_type": "code",
   "execution_count": 13,
   "id": "78d66d15",
   "metadata": {},
   "outputs": [
    {
     "name": "stdout",
     "output_type": "stream",
     "text": [
      "<class 'pandas.core.frame.DataFrame'>\n",
      "RangeIndex: 5782 entries, 0 to 5781\n",
      "Data columns (total 6 columns):\n",
      " #   Column             Non-Null Count  Dtype \n",
      "---  ------             --------------  ----- \n",
      " 0   id                 5782 non-null   int64 \n",
      " 1   release_date       5782 non-null   object\n",
      " 2   movie              5782 non-null   object\n",
      " 3   production_budget  5782 non-null   object\n",
      " 4   domestic_gross     5782 non-null   object\n",
      " 5   worldwide_gross    5782 non-null   object\n",
      "dtypes: int64(1), object(5)\n",
      "memory usage: 271.2+ KB\n"
     ]
    }
   ],
   "source": [
    "#Summary of the dataset\n",
    "budget.info()"
   ]
  },
  {
   "cell_type": "code",
   "execution_count": 14,
   "id": "6724d525",
   "metadata": {},
   "outputs": [
    {
     "data": {
      "text/html": [
       "<div>\n",
       "<style scoped>\n",
       "    .dataframe tbody tr th:only-of-type {\n",
       "        vertical-align: middle;\n",
       "    }\n",
       "\n",
       "    .dataframe tbody tr th {\n",
       "        vertical-align: top;\n",
       "    }\n",
       "\n",
       "    .dataframe thead th {\n",
       "        text-align: right;\n",
       "    }\n",
       "</style>\n",
       "<table border=\"1\" class=\"dataframe\">\n",
       "  <thead>\n",
       "    <tr style=\"text-align: right;\">\n",
       "      <th></th>\n",
       "      <th>id</th>\n",
       "      <th>release_date</th>\n",
       "      <th>movie</th>\n",
       "      <th>production_budget</th>\n",
       "      <th>domestic_gross</th>\n",
       "      <th>worldwide_gross</th>\n",
       "    </tr>\n",
       "  </thead>\n",
       "  <tbody>\n",
       "    <tr>\n",
       "      <th>5777</th>\n",
       "      <td>78</td>\n",
       "      <td>Dec 31, 2018</td>\n",
       "      <td>Red 11</td>\n",
       "      <td>$7,000</td>\n",
       "      <td>$0</td>\n",
       "      <td>$0</td>\n",
       "    </tr>\n",
       "    <tr>\n",
       "      <th>5778</th>\n",
       "      <td>79</td>\n",
       "      <td>Apr 2, 1999</td>\n",
       "      <td>Following</td>\n",
       "      <td>$6,000</td>\n",
       "      <td>$48,482</td>\n",
       "      <td>$240,495</td>\n",
       "    </tr>\n",
       "    <tr>\n",
       "      <th>5779</th>\n",
       "      <td>80</td>\n",
       "      <td>Jul 13, 2005</td>\n",
       "      <td>Return to the Land of Wonders</td>\n",
       "      <td>$5,000</td>\n",
       "      <td>$1,338</td>\n",
       "      <td>$1,338</td>\n",
       "    </tr>\n",
       "    <tr>\n",
       "      <th>5780</th>\n",
       "      <td>81</td>\n",
       "      <td>Sep 29, 2015</td>\n",
       "      <td>A Plague So Pleasant</td>\n",
       "      <td>$1,400</td>\n",
       "      <td>$0</td>\n",
       "      <td>$0</td>\n",
       "    </tr>\n",
       "    <tr>\n",
       "      <th>5781</th>\n",
       "      <td>82</td>\n",
       "      <td>Aug 5, 2005</td>\n",
       "      <td>My Date With Drew</td>\n",
       "      <td>$1,100</td>\n",
       "      <td>$181,041</td>\n",
       "      <td>$181,041</td>\n",
       "    </tr>\n",
       "  </tbody>\n",
       "</table>\n",
       "</div>"
      ],
      "text/plain": [
       "      id  release_date                          movie production_budget   \n",
       "5777  78  Dec 31, 2018                         Red 11            $7,000  \\\n",
       "5778  79   Apr 2, 1999                      Following            $6,000   \n",
       "5779  80  Jul 13, 2005  Return to the Land of Wonders            $5,000   \n",
       "5780  81  Sep 29, 2015           A Plague So Pleasant            $1,400   \n",
       "5781  82   Aug 5, 2005              My Date With Drew            $1,100   \n",
       "\n",
       "     domestic_gross worldwide_gross  \n",
       "5777             $0              $0  \n",
       "5778        $48,482        $240,495  \n",
       "5779         $1,338          $1,338  \n",
       "5780             $0              $0  \n",
       "5781       $181,041        $181,041  "
      ]
     },
     "execution_count": 14,
     "metadata": {},
     "output_type": "execute_result"
    }
   ],
   "source": [
    "#previewing the last 5 rows\n",
    "budget.tail()"
   ]
  },
  {
   "cell_type": "code",
   "execution_count": 15,
   "id": "915ed206",
   "metadata": {
    "scrolled": true
   },
   "outputs": [
    {
     "data": {
      "text/html": [
       "<div>\n",
       "<style scoped>\n",
       "    .dataframe tbody tr th:only-of-type {\n",
       "        vertical-align: middle;\n",
       "    }\n",
       "\n",
       "    .dataframe tbody tr th {\n",
       "        vertical-align: top;\n",
       "    }\n",
       "\n",
       "    .dataframe thead th {\n",
       "        text-align: right;\n",
       "    }\n",
       "</style>\n",
       "<table border=\"1\" class=\"dataframe\">\n",
       "  <thead>\n",
       "    <tr style=\"text-align: right;\">\n",
       "      <th></th>\n",
       "      <th>title</th>\n",
       "      <th>studio</th>\n",
       "      <th>domestic_gross</th>\n",
       "      <th>foreign_gross</th>\n",
       "      <th>year</th>\n",
       "    </tr>\n",
       "  </thead>\n",
       "  <tbody>\n",
       "    <tr>\n",
       "      <th>0</th>\n",
       "      <td>Toy Story 3</td>\n",
       "      <td>BV</td>\n",
       "      <td>415000000.0</td>\n",
       "      <td>652000000</td>\n",
       "      <td>2010</td>\n",
       "    </tr>\n",
       "    <tr>\n",
       "      <th>1</th>\n",
       "      <td>Alice in Wonderland (2010)</td>\n",
       "      <td>BV</td>\n",
       "      <td>334200000.0</td>\n",
       "      <td>691300000</td>\n",
       "      <td>2010</td>\n",
       "    </tr>\n",
       "    <tr>\n",
       "      <th>2</th>\n",
       "      <td>Harry Potter and the Deathly Hallows Part 1</td>\n",
       "      <td>WB</td>\n",
       "      <td>296000000.0</td>\n",
       "      <td>664300000</td>\n",
       "      <td>2010</td>\n",
       "    </tr>\n",
       "    <tr>\n",
       "      <th>3</th>\n",
       "      <td>Inception</td>\n",
       "      <td>WB</td>\n",
       "      <td>292600000.0</td>\n",
       "      <td>535700000</td>\n",
       "      <td>2010</td>\n",
       "    </tr>\n",
       "    <tr>\n",
       "      <th>4</th>\n",
       "      <td>Shrek Forever After</td>\n",
       "      <td>P/DW</td>\n",
       "      <td>238700000.0</td>\n",
       "      <td>513900000</td>\n",
       "      <td>2010</td>\n",
       "    </tr>\n",
       "  </tbody>\n",
       "</table>\n",
       "</div>"
      ],
      "text/plain": [
       "                                         title studio  domestic_gross   \n",
       "0                                  Toy Story 3     BV     415000000.0  \\\n",
       "1                   Alice in Wonderland (2010)     BV     334200000.0   \n",
       "2  Harry Potter and the Deathly Hallows Part 1     WB     296000000.0   \n",
       "3                                    Inception     WB     292600000.0   \n",
       "4                          Shrek Forever After   P/DW     238700000.0   \n",
       "\n",
       "  foreign_gross  year  \n",
       "0     652000000  2010  \n",
       "1     691300000  2010  \n",
       "2     664300000  2010  \n",
       "3     535700000  2010  \n",
       "4     513900000  2010  "
      ]
     },
     "execution_count": 15,
     "metadata": {},
     "output_type": "execute_result"
    }
   ],
   "source": [
    "#Loading  gross data\n",
    "gross =pd.read_csv(\"bom.movie_gross.csv\")\n",
    "#previewing the first 5 rows\n",
    "gross.head()\n"
   ]
  },
  {
   "cell_type": "code",
   "execution_count": 16,
   "id": "8221c24e",
   "metadata": {},
   "outputs": [
    {
     "name": "stdout",
     "output_type": "stream",
     "text": [
      "<class 'pandas.core.frame.DataFrame'>\n",
      "RangeIndex: 3387 entries, 0 to 3386\n",
      "Data columns (total 5 columns):\n",
      " #   Column          Non-Null Count  Dtype  \n",
      "---  ------          --------------  -----  \n",
      " 0   title           3387 non-null   object \n",
      " 1   studio          3382 non-null   object \n",
      " 2   domestic_gross  3359 non-null   float64\n",
      " 3   foreign_gross   2037 non-null   object \n",
      " 4   year            3387 non-null   int64  \n",
      "dtypes: float64(1), int64(1), object(3)\n",
      "memory usage: 132.4+ KB\n"
     ]
    }
   ],
   "source": [
    "#Summary\n",
    "gross.info()\n"
   ]
  },
  {
   "cell_type": "code",
   "execution_count": 17,
   "id": "4aefc3b5",
   "metadata": {},
   "outputs": [
    {
     "data": {
      "text/plain": [
       "title              object\n",
       "studio             object\n",
       "domestic_gross    float64\n",
       "foreign_gross      object\n",
       "year                int64\n",
       "dtype: object"
      ]
     },
     "execution_count": 17,
     "metadata": {},
     "output_type": "execute_result"
    }
   ],
   "source": [
    "#checking the data types of the columns\n",
    "gross.dtypes"
   ]
  },
  {
   "cell_type": "code",
   "execution_count": 18,
   "id": "33dbe9e1",
   "metadata": {},
   "outputs": [
    {
     "data": {
      "text/html": [
       "<div>\n",
       "<style scoped>\n",
       "    .dataframe tbody tr th:only-of-type {\n",
       "        vertical-align: middle;\n",
       "    }\n",
       "\n",
       "    .dataframe tbody tr th {\n",
       "        vertical-align: top;\n",
       "    }\n",
       "\n",
       "    .dataframe thead th {\n",
       "        text-align: right;\n",
       "    }\n",
       "</style>\n",
       "<table border=\"1\" class=\"dataframe\">\n",
       "  <thead>\n",
       "    <tr style=\"text-align: right;\">\n",
       "      <th></th>\n",
       "      <th>title</th>\n",
       "      <th>studio</th>\n",
       "      <th>domestic_gross</th>\n",
       "      <th>foreign_gross</th>\n",
       "      <th>year</th>\n",
       "    </tr>\n",
       "  </thead>\n",
       "  <tbody>\n",
       "    <tr>\n",
       "      <th>3382</th>\n",
       "      <td>The Quake</td>\n",
       "      <td>Magn.</td>\n",
       "      <td>6200.0</td>\n",
       "      <td>NaN</td>\n",
       "      <td>2018</td>\n",
       "    </tr>\n",
       "    <tr>\n",
       "      <th>3383</th>\n",
       "      <td>Edward II (2018 re-release)</td>\n",
       "      <td>FM</td>\n",
       "      <td>4800.0</td>\n",
       "      <td>NaN</td>\n",
       "      <td>2018</td>\n",
       "    </tr>\n",
       "    <tr>\n",
       "      <th>3384</th>\n",
       "      <td>El Pacto</td>\n",
       "      <td>Sony</td>\n",
       "      <td>2500.0</td>\n",
       "      <td>NaN</td>\n",
       "      <td>2018</td>\n",
       "    </tr>\n",
       "    <tr>\n",
       "      <th>3385</th>\n",
       "      <td>The Swan</td>\n",
       "      <td>Synergetic</td>\n",
       "      <td>2400.0</td>\n",
       "      <td>NaN</td>\n",
       "      <td>2018</td>\n",
       "    </tr>\n",
       "    <tr>\n",
       "      <th>3386</th>\n",
       "      <td>An Actor Prepares</td>\n",
       "      <td>Grav.</td>\n",
       "      <td>1700.0</td>\n",
       "      <td>NaN</td>\n",
       "      <td>2018</td>\n",
       "    </tr>\n",
       "  </tbody>\n",
       "</table>\n",
       "</div>"
      ],
      "text/plain": [
       "                            title      studio  domestic_gross foreign_gross   \n",
       "3382                    The Quake       Magn.          6200.0           NaN  \\\n",
       "3383  Edward II (2018 re-release)          FM          4800.0           NaN   \n",
       "3384                     El Pacto        Sony          2500.0           NaN   \n",
       "3385                     The Swan  Synergetic          2400.0           NaN   \n",
       "3386            An Actor Prepares       Grav.          1700.0           NaN   \n",
       "\n",
       "      year  \n",
       "3382  2018  \n",
       "3383  2018  \n",
       "3384  2018  \n",
       "3385  2018  \n",
       "3386  2018  "
      ]
     },
     "execution_count": 18,
     "metadata": {},
     "output_type": "execute_result"
    }
   ],
   "source": [
    "#previewing the last 5 rows of the datasets\n",
    "gross.tail()"
   ]
  },
  {
   "attachments": {},
   "cell_type": "markdown",
   "id": "9a53d89a",
   "metadata": {},
   "source": [
    "## 5.Data Wrangling"
   ]
  },
  {
   "attachments": {},
   "cell_type": "markdown",
   "id": "7eea4cb7",
   "metadata": {},
   "source": [
    "### Dropping Columns"
   ]
  },
  {
   "attachments": {},
   "cell_type": "markdown",
   "id": "0c6d7890",
   "metadata": {},
   "source": [
    "Only a few features and rows from the loadeddatasets that were gathered are important to the procedure. The columns from each dataset that are not necessary will be removed in this step. After then, the remaining datasets will be used to create data visuals\n"
   ]
  },
  {
   "cell_type": "code",
   "execution_count": 19,
   "id": "9f5d9168",
   "metadata": {},
   "outputs": [
    {
     "data": {
      "text/html": [
       "<div>\n",
       "<style scoped>\n",
       "    .dataframe tbody tr th:only-of-type {\n",
       "        vertical-align: middle;\n",
       "    }\n",
       "\n",
       "    .dataframe tbody tr th {\n",
       "        vertical-align: top;\n",
       "    }\n",
       "\n",
       "    .dataframe thead th {\n",
       "        text-align: right;\n",
       "    }\n",
       "</style>\n",
       "<table border=\"1\" class=\"dataframe\">\n",
       "  <thead>\n",
       "    <tr style=\"text-align: right;\">\n",
       "      <th></th>\n",
       "      <th>title</th>\n",
       "      <th>popularity</th>\n",
       "    </tr>\n",
       "  </thead>\n",
       "  <tbody>\n",
       "    <tr>\n",
       "      <th>0</th>\n",
       "      <td>Harry Potter and the Deathly Hallows: Part 1</td>\n",
       "      <td>33.533</td>\n",
       "    </tr>\n",
       "    <tr>\n",
       "      <th>1</th>\n",
       "      <td>How to Train Your Dragon</td>\n",
       "      <td>28.734</td>\n",
       "    </tr>\n",
       "    <tr>\n",
       "      <th>2</th>\n",
       "      <td>Iron Man 2</td>\n",
       "      <td>28.515</td>\n",
       "    </tr>\n",
       "    <tr>\n",
       "      <th>3</th>\n",
       "      <td>Toy Story</td>\n",
       "      <td>28.005</td>\n",
       "    </tr>\n",
       "    <tr>\n",
       "      <th>4</th>\n",
       "      <td>Inception</td>\n",
       "      <td>27.920</td>\n",
       "    </tr>\n",
       "    <tr>\n",
       "      <th>...</th>\n",
       "      <td>...</td>\n",
       "      <td>...</td>\n",
       "    </tr>\n",
       "    <tr>\n",
       "      <th>26512</th>\n",
       "      <td>Laboratory Conditions</td>\n",
       "      <td>0.600</td>\n",
       "    </tr>\n",
       "    <tr>\n",
       "      <th>26513</th>\n",
       "      <td>_EXHIBIT_84xxx_</td>\n",
       "      <td>0.600</td>\n",
       "    </tr>\n",
       "    <tr>\n",
       "      <th>26514</th>\n",
       "      <td>The Last One</td>\n",
       "      <td>0.600</td>\n",
       "    </tr>\n",
       "    <tr>\n",
       "      <th>26515</th>\n",
       "      <td>Trailer Made</td>\n",
       "      <td>0.600</td>\n",
       "    </tr>\n",
       "    <tr>\n",
       "      <th>26516</th>\n",
       "      <td>The Church</td>\n",
       "      <td>0.600</td>\n",
       "    </tr>\n",
       "  </tbody>\n",
       "</table>\n",
       "<p>26517 rows × 2 columns</p>\n",
       "</div>"
      ],
      "text/plain": [
       "                                              title  popularity\n",
       "0      Harry Potter and the Deathly Hallows: Part 1      33.533\n",
       "1                          How to Train Your Dragon      28.734\n",
       "2                                        Iron Man 2      28.515\n",
       "3                                         Toy Story      28.005\n",
       "4                                         Inception      27.920\n",
       "...                                             ...         ...\n",
       "26512                         Laboratory Conditions       0.600\n",
       "26513                               _EXHIBIT_84xxx_       0.600\n",
       "26514                                  The Last One       0.600\n",
       "26515                                  Trailer Made       0.600\n",
       "26516                                    The Church       0.600\n",
       "\n",
       "[26517 rows x 2 columns]"
      ]
     },
     "execution_count": 19,
     "metadata": {},
     "output_type": "execute_result"
    }
   ],
   "source": [
    "## Selecting necessary columns in the Movies dataset\n",
    "Movies_new=Movies[[\"title\",\"popularity\"]]\n",
    "Movies_new"
   ]
  },
  {
   "cell_type": "code",
   "execution_count": 18,
   "id": "3b113d3c",
   "metadata": {},
   "outputs": [
    {
     "data": {
      "text/plain": [
       "(26517, 2)"
      ]
     },
     "execution_count": 18,
     "metadata": {},
     "output_type": "execute_result"
    }
   ],
   "source": [
    "Movies_new.shape"
   ]
  },
  {
   "attachments": {},
   "cell_type": "markdown",
   "id": "9ec56b78",
   "metadata": {},
   "source": [
    "The new Movie dataset has 26517 rows and 2 columns"
   ]
  },
  {
   "cell_type": "code",
   "execution_count": 37,
   "id": "a1ad888a",
   "metadata": {},
   "outputs": [
    {
     "data": {
      "text/html": [
       "<div>\n",
       "<style scoped>\n",
       "    .dataframe tbody tr th:only-of-type {\n",
       "        vertical-align: middle;\n",
       "    }\n",
       "\n",
       "    .dataframe tbody tr th {\n",
       "        vertical-align: top;\n",
       "    }\n",
       "\n",
       "    .dataframe thead th {\n",
       "        text-align: right;\n",
       "    }\n",
       "</style>\n",
       "<table border=\"1\" class=\"dataframe\">\n",
       "  <thead>\n",
       "    <tr style=\"text-align: right;\">\n",
       "      <th></th>\n",
       "      <th>movie</th>\n",
       "      <th>production_budget</th>\n",
       "      <th>domestic_gross</th>\n",
       "      <th>worldwide_gross</th>\n",
       "    </tr>\n",
       "  </thead>\n",
       "  <tbody>\n",
       "    <tr>\n",
       "      <th>0</th>\n",
       "      <td>Avatar</td>\n",
       "      <td>425000000</td>\n",
       "      <td>760507625</td>\n",
       "      <td>2776345279</td>\n",
       "    </tr>\n",
       "    <tr>\n",
       "      <th>1</th>\n",
       "      <td>Pirates of the Caribbean: On Stranger Tides</td>\n",
       "      <td>410600000</td>\n",
       "      <td>241063875</td>\n",
       "      <td>1045663875</td>\n",
       "    </tr>\n",
       "    <tr>\n",
       "      <th>2</th>\n",
       "      <td>Dark Phoenix</td>\n",
       "      <td>350000000</td>\n",
       "      <td>42762350</td>\n",
       "      <td>149762350</td>\n",
       "    </tr>\n",
       "    <tr>\n",
       "      <th>3</th>\n",
       "      <td>Avengers: Age of Ultron</td>\n",
       "      <td>330600000</td>\n",
       "      <td>459005868</td>\n",
       "      <td>1403013963</td>\n",
       "    </tr>\n",
       "    <tr>\n",
       "      <th>4</th>\n",
       "      <td>Star Wars Ep. VIII: The Last Jedi</td>\n",
       "      <td>317000000</td>\n",
       "      <td>620181382</td>\n",
       "      <td>1316721747</td>\n",
       "    </tr>\n",
       "    <tr>\n",
       "      <th>...</th>\n",
       "      <td>...</td>\n",
       "      <td>...</td>\n",
       "      <td>...</td>\n",
       "      <td>...</td>\n",
       "    </tr>\n",
       "    <tr>\n",
       "      <th>5777</th>\n",
       "      <td>Red 11</td>\n",
       "      <td>7000</td>\n",
       "      <td>0</td>\n",
       "      <td>0</td>\n",
       "    </tr>\n",
       "    <tr>\n",
       "      <th>5778</th>\n",
       "      <td>Following</td>\n",
       "      <td>6000</td>\n",
       "      <td>48482</td>\n",
       "      <td>240495</td>\n",
       "    </tr>\n",
       "    <tr>\n",
       "      <th>5779</th>\n",
       "      <td>Return to the Land of Wonders</td>\n",
       "      <td>5000</td>\n",
       "      <td>1338</td>\n",
       "      <td>1338</td>\n",
       "    </tr>\n",
       "    <tr>\n",
       "      <th>5780</th>\n",
       "      <td>A Plague So Pleasant</td>\n",
       "      <td>1400</td>\n",
       "      <td>0</td>\n",
       "      <td>0</td>\n",
       "    </tr>\n",
       "    <tr>\n",
       "      <th>5781</th>\n",
       "      <td>My Date With Drew</td>\n",
       "      <td>1100</td>\n",
       "      <td>181041</td>\n",
       "      <td>181041</td>\n",
       "    </tr>\n",
       "  </tbody>\n",
       "</table>\n",
       "<p>5782 rows × 4 columns</p>\n",
       "</div>"
      ],
      "text/plain": [
       "                                            movie  production_budget   \n",
       "0                                          Avatar          425000000  \\\n",
       "1     Pirates of the Caribbean: On Stranger Tides          410600000   \n",
       "2                                    Dark Phoenix          350000000   \n",
       "3                         Avengers: Age of Ultron          330600000   \n",
       "4               Star Wars Ep. VIII: The Last Jedi          317000000   \n",
       "...                                           ...                ...   \n",
       "5777                                       Red 11               7000   \n",
       "5778                                    Following               6000   \n",
       "5779                Return to the Land of Wonders               5000   \n",
       "5780                         A Plague So Pleasant               1400   \n",
       "5781                            My Date With Drew               1100   \n",
       "\n",
       "      domestic_gross  worldwide_gross  \n",
       "0          760507625       2776345279  \n",
       "1          241063875       1045663875  \n",
       "2           42762350        149762350  \n",
       "3          459005868       1403013963  \n",
       "4          620181382       1316721747  \n",
       "...              ...              ...  \n",
       "5777               0                0  \n",
       "5778           48482           240495  \n",
       "5779            1338             1338  \n",
       "5780               0                0  \n",
       "5781          181041           181041  \n",
       "\n",
       "[5782 rows x 4 columns]"
      ]
     },
     "execution_count": 37,
     "metadata": {},
     "output_type": "execute_result"
    }
   ],
   "source": [
    "#Selecting the necessary columns in budget dataset\n",
    "budget_new =budget[[\"movie\",\"production_budget\", \"domestic_gross\", \"worldwide_gross\"]]\n",
    "budget_new"
   ]
  },
  {
   "cell_type": "code",
   "execution_count": 43,
   "id": "f9447bbe",
   "metadata": {},
   "outputs": [
    {
     "data": {
      "text/plain": [
       "(5782, 5)"
      ]
     },
     "execution_count": 43,
     "metadata": {},
     "output_type": "execute_result"
    }
   ],
   "source": [
    "budget_new.shape"
   ]
  },
  {
   "attachments": {},
   "cell_type": "markdown",
   "id": "7e1cb7fb",
   "metadata": {},
   "source": [
    "The new budget dataset has 5782 rows and 5 columns"
   ]
  },
  {
   "cell_type": "code",
   "execution_count": 21,
   "id": "3dc6f164",
   "metadata": {
    "scrolled": true
   },
   "outputs": [
    {
     "data": {
      "text/html": [
       "<div>\n",
       "<style scoped>\n",
       "    .dataframe tbody tr th:only-of-type {\n",
       "        vertical-align: middle;\n",
       "    }\n",
       "\n",
       "    .dataframe tbody tr th {\n",
       "        vertical-align: top;\n",
       "    }\n",
       "\n",
       "    .dataframe thead th {\n",
       "        text-align: right;\n",
       "    }\n",
       "</style>\n",
       "<table border=\"1\" class=\"dataframe\">\n",
       "  <thead>\n",
       "    <tr style=\"text-align: right;\">\n",
       "      <th></th>\n",
       "      <th>title</th>\n",
       "      <th>domestic_gross</th>\n",
       "      <th>foreign_gross</th>\n",
       "    </tr>\n",
       "  </thead>\n",
       "  <tbody>\n",
       "    <tr>\n",
       "      <th>0</th>\n",
       "      <td>Toy Story 3</td>\n",
       "      <td>415000000.0</td>\n",
       "      <td>652000000</td>\n",
       "    </tr>\n",
       "    <tr>\n",
       "      <th>1</th>\n",
       "      <td>Alice in Wonderland (2010)</td>\n",
       "      <td>334200000.0</td>\n",
       "      <td>691300000</td>\n",
       "    </tr>\n",
       "    <tr>\n",
       "      <th>2</th>\n",
       "      <td>Harry Potter and the Deathly Hallows Part 1</td>\n",
       "      <td>296000000.0</td>\n",
       "      <td>664300000</td>\n",
       "    </tr>\n",
       "    <tr>\n",
       "      <th>3</th>\n",
       "      <td>Inception</td>\n",
       "      <td>292600000.0</td>\n",
       "      <td>535700000</td>\n",
       "    </tr>\n",
       "    <tr>\n",
       "      <th>4</th>\n",
       "      <td>Shrek Forever After</td>\n",
       "      <td>238700000.0</td>\n",
       "      <td>513900000</td>\n",
       "    </tr>\n",
       "    <tr>\n",
       "      <th>...</th>\n",
       "      <td>...</td>\n",
       "      <td>...</td>\n",
       "      <td>...</td>\n",
       "    </tr>\n",
       "    <tr>\n",
       "      <th>3382</th>\n",
       "      <td>The Quake</td>\n",
       "      <td>6200.0</td>\n",
       "      <td>NaN</td>\n",
       "    </tr>\n",
       "    <tr>\n",
       "      <th>3383</th>\n",
       "      <td>Edward II (2018 re-release)</td>\n",
       "      <td>4800.0</td>\n",
       "      <td>NaN</td>\n",
       "    </tr>\n",
       "    <tr>\n",
       "      <th>3384</th>\n",
       "      <td>El Pacto</td>\n",
       "      <td>2500.0</td>\n",
       "      <td>NaN</td>\n",
       "    </tr>\n",
       "    <tr>\n",
       "      <th>3385</th>\n",
       "      <td>The Swan</td>\n",
       "      <td>2400.0</td>\n",
       "      <td>NaN</td>\n",
       "    </tr>\n",
       "    <tr>\n",
       "      <th>3386</th>\n",
       "      <td>An Actor Prepares</td>\n",
       "      <td>1700.0</td>\n",
       "      <td>NaN</td>\n",
       "    </tr>\n",
       "  </tbody>\n",
       "</table>\n",
       "<p>3387 rows × 3 columns</p>\n",
       "</div>"
      ],
      "text/plain": [
       "                                            title  domestic_gross   \n",
       "0                                     Toy Story 3     415000000.0  \\\n",
       "1                      Alice in Wonderland (2010)     334200000.0   \n",
       "2     Harry Potter and the Deathly Hallows Part 1     296000000.0   \n",
       "3                                       Inception     292600000.0   \n",
       "4                             Shrek Forever After     238700000.0   \n",
       "...                                           ...             ...   \n",
       "3382                                    The Quake          6200.0   \n",
       "3383                  Edward II (2018 re-release)          4800.0   \n",
       "3384                                     El Pacto          2500.0   \n",
       "3385                                     The Swan          2400.0   \n",
       "3386                            An Actor Prepares          1700.0   \n",
       "\n",
       "     foreign_gross  \n",
       "0        652000000  \n",
       "1        691300000  \n",
       "2        664300000  \n",
       "3        535700000  \n",
       "4        513900000  \n",
       "...            ...  \n",
       "3382           NaN  \n",
       "3383           NaN  \n",
       "3384           NaN  \n",
       "3385           NaN  \n",
       "3386           NaN  \n",
       "\n",
       "[3387 rows x 3 columns]"
      ]
     },
     "execution_count": 21,
     "metadata": {},
     "output_type": "execute_result"
    }
   ],
   "source": [
    "#Selecting the necessary columns in gross dataset\n",
    "gross_new =gross[[\"title\", \"domestic_gross\", \"foreign_gross\"]]\n",
    "gross_new"
   ]
  },
  {
   "cell_type": "code",
   "execution_count": 22,
   "id": "2529a25b",
   "metadata": {},
   "outputs": [
    {
     "data": {
      "text/plain": [
       "(3387, 3)"
      ]
     },
     "execution_count": 22,
     "metadata": {},
     "output_type": "execute_result"
    }
   ],
   "source": [
    "gross_new.shape"
   ]
  },
  {
   "attachments": {},
   "cell_type": "markdown",
   "id": "83600d23",
   "metadata": {},
   "source": [
    "The new gross dataset has 3387 rows and 3 colums"
   ]
  },
  {
   "cell_type": "code",
   "execution_count": 23,
   "id": "5af2cdfa",
   "metadata": {},
   "outputs": [
    {
     "data": {
      "text/html": [
       "<div>\n",
       "<style scoped>\n",
       "    .dataframe tbody tr th:only-of-type {\n",
       "        vertical-align: middle;\n",
       "    }\n",
       "\n",
       "    .dataframe tbody tr th {\n",
       "        vertical-align: top;\n",
       "    }\n",
       "\n",
       "    .dataframe thead th {\n",
       "        text-align: right;\n",
       "    }\n",
       "</style>\n",
       "<table border=\"1\" class=\"dataframe\">\n",
       "  <thead>\n",
       "    <tr style=\"text-align: right;\">\n",
       "      <th></th>\n",
       "      <th>averagerating</th>\n",
       "      <th>numvotes</th>\n",
       "    </tr>\n",
       "  </thead>\n",
       "  <tbody>\n",
       "    <tr>\n",
       "      <th>0</th>\n",
       "      <td>8.3</td>\n",
       "      <td>31</td>\n",
       "    </tr>\n",
       "    <tr>\n",
       "      <th>1</th>\n",
       "      <td>8.9</td>\n",
       "      <td>559</td>\n",
       "    </tr>\n",
       "    <tr>\n",
       "      <th>2</th>\n",
       "      <td>6.4</td>\n",
       "      <td>20</td>\n",
       "    </tr>\n",
       "    <tr>\n",
       "      <th>3</th>\n",
       "      <td>4.2</td>\n",
       "      <td>50352</td>\n",
       "    </tr>\n",
       "    <tr>\n",
       "      <th>4</th>\n",
       "      <td>6.5</td>\n",
       "      <td>21</td>\n",
       "    </tr>\n",
       "    <tr>\n",
       "      <th>...</th>\n",
       "      <td>...</td>\n",
       "      <td>...</td>\n",
       "    </tr>\n",
       "    <tr>\n",
       "      <th>73851</th>\n",
       "      <td>8.1</td>\n",
       "      <td>25</td>\n",
       "    </tr>\n",
       "    <tr>\n",
       "      <th>73852</th>\n",
       "      <td>7.5</td>\n",
       "      <td>24</td>\n",
       "    </tr>\n",
       "    <tr>\n",
       "      <th>73853</th>\n",
       "      <td>4.7</td>\n",
       "      <td>14</td>\n",
       "    </tr>\n",
       "    <tr>\n",
       "      <th>73854</th>\n",
       "      <td>7.0</td>\n",
       "      <td>5</td>\n",
       "    </tr>\n",
       "    <tr>\n",
       "      <th>73855</th>\n",
       "      <td>6.3</td>\n",
       "      <td>128</td>\n",
       "    </tr>\n",
       "  </tbody>\n",
       "</table>\n",
       "<p>73856 rows × 2 columns</p>\n",
       "</div>"
      ],
      "text/plain": [
       "       averagerating  numvotes\n",
       "0                8.3        31\n",
       "1                8.9       559\n",
       "2                6.4        20\n",
       "3                4.2     50352\n",
       "4                6.5        21\n",
       "...              ...       ...\n",
       "73851            8.1        25\n",
       "73852            7.5        24\n",
       "73853            4.7        14\n",
       "73854            7.0         5\n",
       "73855            6.3       128\n",
       "\n",
       "[73856 rows x 2 columns]"
      ]
     },
     "execution_count": 23,
     "metadata": {},
     "output_type": "execute_result"
    }
   ],
   "source": [
    "#Selecting the necessary columns in ratings dataset\n",
    "ratings_new =ratings[[\"averagerating\", \"numvotes\"]]\n",
    "ratings_new"
   ]
  },
  {
   "cell_type": "code",
   "execution_count": 24,
   "id": "3f75db52",
   "metadata": {},
   "outputs": [
    {
     "data": {
      "text/plain": [
       "(73856, 2)"
      ]
     },
     "execution_count": 24,
     "metadata": {},
     "output_type": "execute_result"
    }
   ],
   "source": [
    "ratings_new.shape"
   ]
  },
  {
   "attachments": {},
   "cell_type": "markdown",
   "id": "9236644d",
   "metadata": {},
   "source": [
    "The new ratings dataset has 73856 rows and 2 columns"
   ]
  },
  {
   "attachments": {},
   "cell_type": "markdown",
   "id": "56ea03b7",
   "metadata": {},
   "source": [
    "## 6. Data Analysis"
   ]
  },
  {
   "attachments": {},
   "cell_type": "markdown",
   "id": "fe290ffd",
   "metadata": {},
   "source": [
    "##### 6.1 Budget Dataframe"
   ]
  },
  {
   "cell_type": "code",
   "execution_count": 25,
   "id": "a276b19a",
   "metadata": {},
   "outputs": [
    {
     "data": {
      "text/plain": [
       "movie                0\n",
       "production_budget    0\n",
       "domestic_gross       0\n",
       "worldwide_gross      0\n",
       "dtype: int64"
      ]
     },
     "execution_count": 25,
     "metadata": {},
     "output_type": "execute_result"
    }
   ],
   "source": [
    "#Checking if the  new budget dataframe has missing values\n",
    "budget_new.isna().sum().head()"
   ]
  },
  {
   "attachments": {},
   "cell_type": "markdown",
   "id": "764ca9dc",
   "metadata": {},
   "source": [
    "The dataframe has no missing values"
   ]
  },
  {
   "cell_type": "code",
   "execution_count": 26,
   "id": "bfa2b635",
   "metadata": {
    "scrolled": true
   },
   "outputs": [
    {
     "data": {
      "text/html": [
       "<div>\n",
       "<style scoped>\n",
       "    .dataframe tbody tr th:only-of-type {\n",
       "        vertical-align: middle;\n",
       "    }\n",
       "\n",
       "    .dataframe tbody tr th {\n",
       "        vertical-align: top;\n",
       "    }\n",
       "\n",
       "    .dataframe thead th {\n",
       "        text-align: right;\n",
       "    }\n",
       "</style>\n",
       "<table border=\"1\" class=\"dataframe\">\n",
       "  <thead>\n",
       "    <tr style=\"text-align: right;\">\n",
       "      <th></th>\n",
       "      <th>id</th>\n",
       "      <th>release_date</th>\n",
       "      <th>movie</th>\n",
       "      <th>production_budget</th>\n",
       "      <th>domestic_gross</th>\n",
       "      <th>worldwide_gross</th>\n",
       "    </tr>\n",
       "  </thead>\n",
       "  <tbody>\n",
       "    <tr>\n",
       "      <th>0</th>\n",
       "      <td>1</td>\n",
       "      <td>Dec 18, 2009</td>\n",
       "      <td>Avatar</td>\n",
       "      <td>425000000</td>\n",
       "      <td>760507625</td>\n",
       "      <td>2776345279</td>\n",
       "    </tr>\n",
       "    <tr>\n",
       "      <th>1</th>\n",
       "      <td>2</td>\n",
       "      <td>May 20, 2011</td>\n",
       "      <td>Pirates of the Caribbean: On Stranger Tides</td>\n",
       "      <td>410600000</td>\n",
       "      <td>241063875</td>\n",
       "      <td>1045663875</td>\n",
       "    </tr>\n",
       "    <tr>\n",
       "      <th>2</th>\n",
       "      <td>3</td>\n",
       "      <td>Jun 7, 2019</td>\n",
       "      <td>Dark Phoenix</td>\n",
       "      <td>350000000</td>\n",
       "      <td>42762350</td>\n",
       "      <td>149762350</td>\n",
       "    </tr>\n",
       "    <tr>\n",
       "      <th>3</th>\n",
       "      <td>4</td>\n",
       "      <td>May 1, 2015</td>\n",
       "      <td>Avengers: Age of Ultron</td>\n",
       "      <td>330600000</td>\n",
       "      <td>459005868</td>\n",
       "      <td>1403013963</td>\n",
       "    </tr>\n",
       "    <tr>\n",
       "      <th>4</th>\n",
       "      <td>5</td>\n",
       "      <td>Dec 15, 2017</td>\n",
       "      <td>Star Wars Ep. VIII: The Last Jedi</td>\n",
       "      <td>317000000</td>\n",
       "      <td>620181382</td>\n",
       "      <td>1316721747</td>\n",
       "    </tr>\n",
       "  </tbody>\n",
       "</table>\n",
       "</div>"
      ],
      "text/plain": [
       "   id  release_date                                        movie   \n",
       "0   1  Dec 18, 2009                                       Avatar  \\\n",
       "1   2  May 20, 2011  Pirates of the Caribbean: On Stranger Tides   \n",
       "2   3   Jun 7, 2019                                 Dark Phoenix   \n",
       "3   4   May 1, 2015                      Avengers: Age of Ultron   \n",
       "4   5  Dec 15, 2017            Star Wars Ep. VIII: The Last Jedi   \n",
       "\n",
       "  production_budget domestic_gross worldwide_gross  \n",
       "0         425000000      760507625      2776345279  \n",
       "1         410600000      241063875      1045663875  \n",
       "2         350000000       42762350       149762350  \n",
       "3         330600000      459005868      1403013963  \n",
       "4         317000000      620181382      1316721747  "
      ]
     },
     "execution_count": 26,
     "metadata": {},
     "output_type": "execute_result"
    }
   ],
   "source": [
    "#Removing the special characters ($ and ,)\n",
    "#regex=True , is used to find all non-word characters, i.e. characters which are not alphabetical or numerical.\n",
    "budget['domestic_gross'] = budget['domestic_gross'].str.replace('\\W', '' ,regex=True)\n",
    "budget['production_budget'] = budget['production_budget'].str.replace('\\W', '' ,regex=True)\n",
    "budget['worldwide_gross'] = budget['worldwide_gross'].str.replace('\\W', '' ,regex=True)\n",
    "budget.head()"
   ]
  },
  {
   "attachments": {},
   "cell_type": "markdown",
   "id": "eff98752",
   "metadata": {},
   "source": [
    "The special characters are no longer there"
   ]
  },
  {
   "cell_type": "code",
   "execution_count": 27,
   "id": "e7b10aa6",
   "metadata": {
    "scrolled": true
   },
   "outputs": [
    {
     "data": {
      "text/plain": [
       "movie                object\n",
       "production_budget    object\n",
       "domestic_gross       object\n",
       "worldwide_gross      object\n",
       "dtype: object"
      ]
     },
     "execution_count": 27,
     "metadata": {},
     "output_type": "execute_result"
    }
   ],
   "source": [
    "#checking the datatypes of the columns\n",
    "budget_new.dtypes"
   ]
  },
  {
   "cell_type": "code",
   "execution_count": 36,
   "id": "b4ac204e",
   "metadata": {},
   "outputs": [
    {
     "data": {
      "text/plain": [
       "id                    int64\n",
       "release_date         object\n",
       "movie                object\n",
       "production_budget     int64\n",
       "domestic_gross        int64\n",
       "worldwide_gross       int64\n",
       "dtype: object"
      ]
     },
     "execution_count": 36,
     "metadata": {},
     "output_type": "execute_result"
    }
   ],
   "source": [
    "#changing the datatype of the columns\n",
    "budget['worldwide_gross']=budget['worldwide_gross'].astype('int64')\n",
    "budget['domestic_gross']=budget['domestic_gross'].astype('int64')\n",
    "budget['production_budget']=budget['production_budget'].astype('int64')\n",
    "budget.dtypes"
   ]
  },
  {
   "cell_type": "code",
   "execution_count": 22,
   "id": "aed2fdcf",
   "metadata": {},
   "outputs": [
    {
     "data": {
      "image/png": "[encoded data removed]",
      "text/plain": [
       "<Figure size 640x480 with 1 Axes>"
      ]
     },
     "metadata": {},
     "output_type": "display_data"
    }
   ],
   "source": [
    "#Creating a scatter plot to show relationship between domestic and worldwide gross\n",
    "budget.plot(\n",
    "   x='domestic_gross', \n",
    "   y='worldwide_gross', \n",
    "   kind='scatter'\n",
    ")\n",
    "\n",
    "plt.show()"
   ]
  },
  {
   "attachments": {},
   "cell_type": "markdown",
   "id": "f2129086",
   "metadata": {},
   "source": [
    "Domestic and worlwide gross are positively correlated ,we can say if a film earns a high domestic gross it is likely to earn a high worlwide gross and vice versa"
   ]
  },
  {
   "cell_type": "code",
   "execution_count": 46,
   "id": "795d757b",
   "metadata": {},
   "outputs": [
    {
     "data": {
      "image/png": "[encoded data removed]",
      "text/plain": [
       "<Figure size 640x480 with 1 Axes>"
      ]
     },
     "metadata": {},
     "output_type": "display_data"
    }
   ],
   "source": [
    "#A bar graph showing the distribution of worldwide gross\n",
    "budget.plot.bar(x='id', y='worldwide_gross', rot=0);"
   ]
  },
  {
   "attachments": {},
   "cell_type": "markdown",
   "id": "6670da4a",
   "metadata": {},
   "source": [
    "The figure above shows that production budget vary from one film to another .That is ,it is not constant"
   ]
  },
  {
   "cell_type": "code",
   "execution_count": 70,
   "id": "3ce5cb77",
   "metadata": {},
   "outputs": [
    {
     "data": {
      "text/plain": [
       "Index([            0,             1,             2,             3,\n",
       "                   4,             5,             6,             7,\n",
       "                   8,             9,\n",
       "       ...\n",
       "                5773,          5774,          5775,          5776,\n",
       "                5777,          5778,          5779,          5780,\n",
       "                5781, 'Total gross'],\n",
       "      dtype='object', length=5783)"
      ]
     },
     "execution_count": 70,
     "metadata": {},
     "output_type": "execute_result"
    }
   ],
   "source": [
    "#To check the number of rows within the dataframe\n",
    "budget.index"
   ]
  },
  {
   "cell_type": "code",
   "execution_count": 33,
   "id": "e70f7109",
   "metadata": {},
   "outputs": [
    {
     "data": {
      "text/html": [
       "<div>\n",
       "<style scoped>\n",
       "    .dataframe tbody tr th:only-of-type {\n",
       "        vertical-align: middle;\n",
       "    }\n",
       "\n",
       "    .dataframe tbody tr th {\n",
       "        vertical-align: top;\n",
       "    }\n",
       "\n",
       "    .dataframe thead th {\n",
       "        text-align: right;\n",
       "    }\n",
       "</style>\n",
       "<table border=\"1\" class=\"dataframe\">\n",
       "  <thead>\n",
       "    <tr style=\"text-align: right;\">\n",
       "      <th></th>\n",
       "      <th>movie</th>\n",
       "      <th>production_budget</th>\n",
       "      <th>domestic_gross</th>\n",
       "      <th>worldwide_gross</th>\n",
       "    </tr>\n",
       "  </thead>\n",
       "  <tbody>\n",
       "    <tr>\n",
       "      <th>0</th>\n",
       "      <td>Avatar</td>\n",
       "      <td>425000000</td>\n",
       "      <td>760507625</td>\n",
       "      <td>2776345279</td>\n",
       "    </tr>\n",
       "    <tr>\n",
       "      <th>1</th>\n",
       "      <td>Pirates of the Caribbean: On Stranger Tides</td>\n",
       "      <td>410600000</td>\n",
       "      <td>241063875</td>\n",
       "      <td>1045663875</td>\n",
       "    </tr>\n",
       "    <tr>\n",
       "      <th>2</th>\n",
       "      <td>Dark Phoenix</td>\n",
       "      <td>350000000</td>\n",
       "      <td>42762350</td>\n",
       "      <td>149762350</td>\n",
       "    </tr>\n",
       "    <tr>\n",
       "      <th>3</th>\n",
       "      <td>Avengers: Age of Ultron</td>\n",
       "      <td>330600000</td>\n",
       "      <td>459005868</td>\n",
       "      <td>1403013963</td>\n",
       "    </tr>\n",
       "    <tr>\n",
       "      <th>4</th>\n",
       "      <td>Star Wars Ep. VIII: The Last Jedi</td>\n",
       "      <td>317000000</td>\n",
       "      <td>620181382</td>\n",
       "      <td>1316721747</td>\n",
       "    </tr>\n",
       "  </tbody>\n",
       "</table>\n",
       "</div>"
      ],
      "text/plain": [
       "                                         movie  production_budget   \n",
       "0                                       Avatar          425000000  \\\n",
       "1  Pirates of the Caribbean: On Stranger Tides          410600000   \n",
       "2                                 Dark Phoenix          350000000   \n",
       "3                      Avengers: Age of Ultron          330600000   \n",
       "4            Star Wars Ep. VIII: The Last Jedi          317000000   \n",
       "\n",
       "   domestic_gross  worldwide_gross  \n",
       "0       760507625       2776345279  \n",
       "1       241063875       1045663875  \n",
       "2        42762350        149762350  \n",
       "3       459005868       1403013963  \n",
       "4       620181382       1316721747  "
      ]
     },
     "execution_count": 33,
     "metadata": {},
     "output_type": "execute_result"
    }
   ],
   "source": [
    "budget_new.head()"
   ]
  },
  {
   "cell_type": "code",
   "execution_count": 46,
   "id": "32d07100",
   "metadata": {},
   "outputs": [
    {
     "name": "stdout",
     "output_type": "stream",
     "text": [
      "The average mean  OF the production_budget column is : 31587757.0965064\n"
     ]
    }
   ],
   "source": [
    "#Finding the average mean of the production budget\n",
    "production=budget[\"production_budget\"].mean()\n",
    "print (\"The average mean  OF the production_budget column is :\" , production)\n"
   ]
  },
  {
   "cell_type": "code",
   "execution_count": 49,
   "id": "6b25b00f",
   "metadata": {},
   "outputs": [
    {
     "data": {
      "text/html": [
       "<div>\n",
       "<style scoped>\n",
       "    .dataframe tbody tr th:only-of-type {\n",
       "        vertical-align: middle;\n",
       "    }\n",
       "\n",
       "    .dataframe tbody tr th {\n",
       "        vertical-align: top;\n",
       "    }\n",
       "\n",
       "    .dataframe thead th {\n",
       "        text-align: right;\n",
       "    }\n",
       "</style>\n",
       "<table border=\"1\" class=\"dataframe\">\n",
       "  <thead>\n",
       "    <tr style=\"text-align: right;\">\n",
       "      <th></th>\n",
       "      <th>id</th>\n",
       "      <th>release_date</th>\n",
       "      <th>movie</th>\n",
       "      <th>production_budget</th>\n",
       "      <th>domestic_gross</th>\n",
       "      <th>worldwide_gross</th>\n",
       "    </tr>\n",
       "  </thead>\n",
       "  <tbody>\n",
       "    <tr>\n",
       "      <th>0</th>\n",
       "      <td>1.0</td>\n",
       "      <td>Dec 18, 2009</td>\n",
       "      <td>Avatar</td>\n",
       "      <td>425000000.0</td>\n",
       "      <td>760507625.0</td>\n",
       "      <td>2.776345e+09</td>\n",
       "    </tr>\n",
       "    <tr>\n",
       "      <th>1</th>\n",
       "      <td>2.0</td>\n",
       "      <td>May 20, 2011</td>\n",
       "      <td>Pirates of the Caribbean: On Stranger Tides</td>\n",
       "      <td>410600000.0</td>\n",
       "      <td>241063875.0</td>\n",
       "      <td>1.045664e+09</td>\n",
       "    </tr>\n",
       "    <tr>\n",
       "      <th>2</th>\n",
       "      <td>3.0</td>\n",
       "      <td>Jun 7, 2019</td>\n",
       "      <td>Dark Phoenix</td>\n",
       "      <td>350000000.0</td>\n",
       "      <td>42762350.0</td>\n",
       "      <td>1.497624e+08</td>\n",
       "    </tr>\n",
       "    <tr>\n",
       "      <th>3</th>\n",
       "      <td>4.0</td>\n",
       "      <td>May 1, 2015</td>\n",
       "      <td>Avengers: Age of Ultron</td>\n",
       "      <td>330600000.0</td>\n",
       "      <td>459005868.0</td>\n",
       "      <td>1.403014e+09</td>\n",
       "    </tr>\n",
       "    <tr>\n",
       "      <th>4</th>\n",
       "      <td>5.0</td>\n",
       "      <td>Dec 15, 2017</td>\n",
       "      <td>Star Wars Ep. VIII: The Last Jedi</td>\n",
       "      <td>317000000.0</td>\n",
       "      <td>620181382.0</td>\n",
       "      <td>1.316722e+09</td>\n",
       "    </tr>\n",
       "  </tbody>\n",
       "</table>\n",
       "</div>"
      ],
      "text/plain": [
       "    id  release_date                                        movie   \n",
       "0  1.0  Dec 18, 2009                                       Avatar  \\\n",
       "1  2.0  May 20, 2011  Pirates of the Caribbean: On Stranger Tides   \n",
       "2  3.0   Jun 7, 2019                                 Dark Phoenix   \n",
       "3  4.0   May 1, 2015                      Avengers: Age of Ultron   \n",
       "4  5.0  Dec 15, 2017            Star Wars Ep. VIII: The Last Jedi   \n",
       "\n",
       "   production_budget  domestic_gross  worldwide_gross  \n",
       "0        425000000.0     760507625.0     2.776345e+09  \n",
       "1        410600000.0     241063875.0     1.045664e+09  \n",
       "2        350000000.0      42762350.0     1.497624e+08  \n",
       "3        330600000.0     459005868.0     1.403014e+09  \n",
       "4        317000000.0     620181382.0     1.316722e+09  "
      ]
     },
     "execution_count": 49,
     "metadata": {},
     "output_type": "execute_result"
    }
   ],
   "source": [
    "budget.loc['Total gross'] =budget['domestic_gross'] + budget['worldwide_gross']\n",
    "budget.head()"
   ]
  },
  {
   "cell_type": "code",
   "execution_count": 30,
   "id": "b93fc5ac",
   "metadata": {
    "scrolled": false
   },
   "outputs": [
    {
     "data": {
      "text/plain": [
       "id                    int64\n",
       "release_date         object\n",
       "movie                object\n",
       "production_budget     int64\n",
       "domestic_gross        int64\n",
       "worldwide_gross       int64\n",
       "dtype: object"
      ]
     },
     "execution_count": 30,
     "metadata": {},
     "output_type": "execute_result"
    }
   ],
   "source": [
    "#selecting the first 5 rows\n",
    "first_five =budget.head(5)\n",
    "first_five.dtypes"
   ]
  },
  {
   "cell_type": "code",
   "execution_count": 31,
   "id": "57a9e8af",
   "metadata": {},
   "outputs": [
    {
     "data": {
      "text/plain": [
       "id                    int64\n",
       "release_date         object\n",
       "movie                object\n",
       "production_budget    object\n",
       "domestic_gross       object\n",
       "worldwide_gross      object\n",
       "dtype: object"
      ]
     },
     "execution_count": 31,
     "metadata": {},
     "output_type": "execute_result"
    }
   ],
   "source": [
    "#selecting a few rows to enable easier plotting\n",
    "first_five.dtypes#the dytpe fuction is for checking the data types"
   ]
  },
  {
   "cell_type": "code",
   "execution_count": 185,
   "id": "62cc7e18",
   "metadata": {},
   "outputs": [
    {
     "data": {
      "text/plain": [
       "<Axes: xlabel='movie'>"
      ]
     },
     "execution_count": 185,
     "metadata": {},
     "output_type": "execute_result"
    },
    {
     "data": {
      "image/png": "[encoded data removed]",
      "text/plain": [
       "<Figure size 640x480 with 1 Axes>"
      ]
     },
     "metadata": {},
     "output_type": "display_data"
    }
   ],
   "source": [
    "#ploting a bar graph \n",
    "first_five.plot(x=\"movie\", y=[\"production_budget\",\"domestic_gross\",\"worldwide_gross\"], kind=\"bar\")"
   ]
  },
  {
   "attachments": {},
   "cell_type": "markdown",
   "id": "221552b6",
   "metadata": {},
   "source": [
    "There is a direct association between budgets and worldwide gross for movies; as budgets rise, revenues rise, and as budgets fall, revenues fall.reduces global revenue, which has an impact on the expansion of the film business.But there are cases where a high budget movie may have a low gross for example X-Men: Dark Phoenix as shown above.This may be due to reasons such as poor marketing and negative reviews\n"
   ]
  },
  {
   "attachments": {},
   "cell_type": "markdown",
   "id": "0b173507",
   "metadata": {},
   "source": [
    "A boxplot is a graph that gives you a good indication of how the values in the data are spread out"
   ]
  },
  {
   "cell_type": "code",
   "execution_count": 186,
   "id": "fa5e607b",
   "metadata": {},
   "outputs": [
    {
     "data": {
      "text/html": [
       "<div>\n",
       "<style scoped>\n",
       "    .dataframe tbody tr th:only-of-type {\n",
       "        vertical-align: middle;\n",
       "    }\n",
       "\n",
       "    .dataframe tbody tr th {\n",
       "        vertical-align: top;\n",
       "    }\n",
       "\n",
       "    .dataframe thead th {\n",
       "        text-align: right;\n",
       "    }\n",
       "</style>\n",
       "<table border=\"1\" class=\"dataframe\">\n",
       "  <thead>\n",
       "    <tr style=\"text-align: right;\">\n",
       "      <th></th>\n",
       "      <th>id</th>\n",
       "      <th>release_date</th>\n",
       "      <th>movie</th>\n",
       "      <th>production_budget</th>\n",
       "      <th>domestic_gross</th>\n",
       "      <th>worldwide_gross</th>\n",
       "    </tr>\n",
       "  </thead>\n",
       "  <tbody>\n",
       "    <tr>\n",
       "      <th>5777</th>\n",
       "      <td>78</td>\n",
       "      <td>Dec 31, 2018</td>\n",
       "      <td>Red 11</td>\n",
       "      <td>7000</td>\n",
       "      <td>0</td>\n",
       "      <td>0</td>\n",
       "    </tr>\n",
       "    <tr>\n",
       "      <th>5778</th>\n",
       "      <td>79</td>\n",
       "      <td>Apr 2, 1999</td>\n",
       "      <td>Following</td>\n",
       "      <td>6000</td>\n",
       "      <td>48482</td>\n",
       "      <td>240495</td>\n",
       "    </tr>\n",
       "    <tr>\n",
       "      <th>5779</th>\n",
       "      <td>80</td>\n",
       "      <td>Jul 13, 2005</td>\n",
       "      <td>Return to the Land of Wonders</td>\n",
       "      <td>5000</td>\n",
       "      <td>1338</td>\n",
       "      <td>1338</td>\n",
       "    </tr>\n",
       "    <tr>\n",
       "      <th>5780</th>\n",
       "      <td>81</td>\n",
       "      <td>Sep 29, 2015</td>\n",
       "      <td>A Plague So Pleasant</td>\n",
       "      <td>1400</td>\n",
       "      <td>0</td>\n",
       "      <td>0</td>\n",
       "    </tr>\n",
       "    <tr>\n",
       "      <th>5781</th>\n",
       "      <td>82</td>\n",
       "      <td>Aug 5, 2005</td>\n",
       "      <td>My Date With Drew</td>\n",
       "      <td>1100</td>\n",
       "      <td>181041</td>\n",
       "      <td>181041</td>\n",
       "    </tr>\n",
       "  </tbody>\n",
       "</table>\n",
       "</div>"
      ],
      "text/plain": [
       "      id  release_date                          movie  production_budget   \n",
       "5777  78  Dec 31, 2018                         Red 11               7000  \\\n",
       "5778  79   Apr 2, 1999                      Following               6000   \n",
       "5779  80  Jul 13, 2005  Return to the Land of Wonders               5000   \n",
       "5780  81  Sep 29, 2015           A Plague So Pleasant               1400   \n",
       "5781  82   Aug 5, 2005              My Date With Drew               1100   \n",
       "\n",
       "      domestic_gross  worldwide_gross  \n",
       "5777               0                0  \n",
       "5778           48482           240495  \n",
       "5779            1338             1338  \n",
       "5780               0                0  \n",
       "5781          181041           181041  "
      ]
     },
     "execution_count": 186,
     "metadata": {},
     "output_type": "execute_result"
    }
   ],
   "source": [
    "#Ploting a stacked bar chart for the last rows\n",
    "tail=budget.tail(5)\n",
    "tail"
   ]
  },
  {
   "cell_type": "code",
   "execution_count": 188,
   "id": "eb9311c0",
   "metadata": {},
   "outputs": [
    {
     "data": {
      "text/plain": [
       "<Axes: xlabel='movie'>"
      ]
     },
     "execution_count": 188,
     "metadata": {},
     "output_type": "execute_result"
    },
    {
     "data": {
      "image/png": "[encoded data removed]",
      "text/plain": [
       "<Figure size 640x480 with 1 Axes>"
      ]
     },
     "metadata": {},
     "output_type": "display_data"
    }
   ],
   "source": [
    "tail.plot(x=\"movie\", y=[\"production_budget\",\"domestic_gross\",\"worldwide_gross\"], kind=\"bar\")"
   ]
  },
  {
   "attachments": {},
   "cell_type": "markdown",
   "id": "08f71128",
   "metadata": {},
   "source": [
    "Movies having lower budgets may just as well be explosive hits as in the case of the 'following' and 'my date with drew' filmsshown above"
   ]
  },
  {
   "attachments": {},
   "cell_type": "markdown",
   "id": "f02a758e",
   "metadata": {},
   "source": [
    "#### 6.2 Gross dataset"
   ]
  },
  {
   "cell_type": "code",
   "execution_count": 131,
   "id": "f3b168f5",
   "metadata": {},
   "outputs": [
    {
     "data": {
      "text/plain": [
       "title                0\n",
       "domestic_gross      28\n",
       "foreign_gross     1350\n",
       "dtype: int64"
      ]
     },
     "execution_count": 131,
     "metadata": {},
     "output_type": "execute_result"
    }
   ],
   "source": [
    "#Checking if the gross dataset has missing values\n",
    "gross_new.isna().sum().head()"
   ]
  },
  {
   "cell_type": "code",
   "execution_count": 62,
   "id": "8d51515e",
   "metadata": {},
   "outputs": [
    {
     "data": {
      "text/html": [
       "<div>\n",
       "<style scoped>\n",
       "    .dataframe tbody tr th:only-of-type {\n",
       "        vertical-align: middle;\n",
       "    }\n",
       "\n",
       "    .dataframe tbody tr th {\n",
       "        vertical-align: top;\n",
       "    }\n",
       "\n",
       "    .dataframe thead th {\n",
       "        text-align: right;\n",
       "    }\n",
       "</style>\n",
       "<table border=\"1\" class=\"dataframe\">\n",
       "  <thead>\n",
       "    <tr style=\"text-align: right;\">\n",
       "      <th></th>\n",
       "      <th>title</th>\n",
       "      <th>domestic_gross</th>\n",
       "      <th>foreign_gross</th>\n",
       "    </tr>\n",
       "  </thead>\n",
       "  <tbody>\n",
       "    <tr>\n",
       "      <th>0</th>\n",
       "      <td>Toy Story 3</td>\n",
       "      <td>415000000.0</td>\n",
       "      <td>652000000</td>\n",
       "    </tr>\n",
       "    <tr>\n",
       "      <th>1</th>\n",
       "      <td>Alice in Wonderland (2010)</td>\n",
       "      <td>334200000.0</td>\n",
       "      <td>691300000</td>\n",
       "    </tr>\n",
       "    <tr>\n",
       "      <th>2</th>\n",
       "      <td>Harry Potter and the Deathly Hallows Part 1</td>\n",
       "      <td>296000000.0</td>\n",
       "      <td>664300000</td>\n",
       "    </tr>\n",
       "    <tr>\n",
       "      <th>3</th>\n",
       "      <td>Inception</td>\n",
       "      <td>292600000.0</td>\n",
       "      <td>535700000</td>\n",
       "    </tr>\n",
       "    <tr>\n",
       "      <th>4</th>\n",
       "      <td>Shrek Forever After</td>\n",
       "      <td>238700000.0</td>\n",
       "      <td>513900000</td>\n",
       "    </tr>\n",
       "    <tr>\n",
       "      <th>...</th>\n",
       "      <td>...</td>\n",
       "      <td>...</td>\n",
       "      <td>...</td>\n",
       "    </tr>\n",
       "    <tr>\n",
       "      <th>3275</th>\n",
       "      <td>I Still See You</td>\n",
       "      <td>1400.0</td>\n",
       "      <td>1500000</td>\n",
       "    </tr>\n",
       "    <tr>\n",
       "      <th>3286</th>\n",
       "      <td>The Catcher Was a Spy</td>\n",
       "      <td>725000.0</td>\n",
       "      <td>229000</td>\n",
       "    </tr>\n",
       "    <tr>\n",
       "      <th>3309</th>\n",
       "      <td>Time Freak</td>\n",
       "      <td>10000.0</td>\n",
       "      <td>256000</td>\n",
       "    </tr>\n",
       "    <tr>\n",
       "      <th>3342</th>\n",
       "      <td>Reign of Judges: Title of Liberty - Concept Short</td>\n",
       "      <td>93200.0</td>\n",
       "      <td>5200</td>\n",
       "    </tr>\n",
       "    <tr>\n",
       "      <th>3353</th>\n",
       "      <td>Antonio Lopez 1970: Sex Fashion &amp; Disco</td>\n",
       "      <td>43200.0</td>\n",
       "      <td>30000</td>\n",
       "    </tr>\n",
       "  </tbody>\n",
       "</table>\n",
       "<p>2009 rows × 3 columns</p>\n",
       "</div>"
      ],
      "text/plain": [
       "                                                  title  domestic_gross   \n",
       "0                                           Toy Story 3     415000000.0  \\\n",
       "1                            Alice in Wonderland (2010)     334200000.0   \n",
       "2           Harry Potter and the Deathly Hallows Part 1     296000000.0   \n",
       "3                                             Inception     292600000.0   \n",
       "4                                   Shrek Forever After     238700000.0   \n",
       "...                                                 ...             ...   \n",
       "3275                                    I Still See You          1400.0   \n",
       "3286                              The Catcher Was a Spy        725000.0   \n",
       "3309                                         Time Freak         10000.0   \n",
       "3342  Reign of Judges: Title of Liberty - Concept Short         93200.0   \n",
       "3353            Antonio Lopez 1970: Sex Fashion & Disco         43200.0   \n",
       "\n",
       "     foreign_gross  \n",
       "0        652000000  \n",
       "1        691300000  \n",
       "2        664300000  \n",
       "3        535700000  \n",
       "4        513900000  \n",
       "...            ...  \n",
       "3275       1500000  \n",
       "3286        229000  \n",
       "3309        256000  \n",
       "3342          5200  \n",
       "3353         30000  \n",
       "\n",
       "[2009 rows x 3 columns]"
      ]
     },
     "execution_count": 62,
     "metadata": {},
     "output_type": "execute_result"
    }
   ],
   "source": [
    "#Dropping the rows with missing values\n",
    "gross_new.dropna()"
   ]
  },
  {
   "cell_type": "code",
   "execution_count": 63,
   "id": "56fe55c2",
   "metadata": {},
   "outputs": [],
   "source": [
    "#Removing the special characters\n",
    "gross['domestic_gross']=gross['domestic_gross'].astype(str)\n",
    "gross['domestic_gross'] = gross['domestic_gross'].str.replace('\\W', '' ,regex=True)\n",
    "gross['foreign_gross'] = gross['foreign_gross'].str.replace('\\W', '' ,regex=True)"
   ]
  },
  {
   "cell_type": "code",
   "execution_count": 64,
   "id": "0f4fef68",
   "metadata": {},
   "outputs": [
    {
     "data": {
      "text/plain": [
       "title              object\n",
       "studio             object\n",
       "domestic_gross    float64\n",
       "foreign_gross     float64\n",
       "year                int64\n",
       "dtype: object"
      ]
     },
     "execution_count": 64,
     "metadata": {},
     "output_type": "execute_result"
    }
   ],
   "source": [
    "#Changing the data type of the dataframe columns\n",
    "gross['domestic_gross']=gross['domestic_gross'].astype(float)\n",
    "gross['foreign_gross']=gross['foreign_gross'].astype(float)\n",
    "gross.dtypes"
   ]
  },
  {
   "cell_type": "code",
   "execution_count": 219,
   "id": "d2255aae",
   "metadata": {},
   "outputs": [
    {
     "data": {
      "text/plain": [
       "title              object\n",
       "studio             object\n",
       "domestic_gross    float64\n",
       "foreign_gross     float64\n",
       "year                int64\n",
       "dtype: object"
      ]
     },
     "execution_count": 219,
     "metadata": {},
     "output_type": "execute_result"
    }
   ],
   "source": [
    "#selecting a few rows for data visualistaion\n",
    "head=gross.loc[7:13]\n",
    "head.dtypes"
   ]
  },
  {
   "cell_type": "code",
   "execution_count": 220,
   "id": "2b4e71dc",
   "metadata": {},
   "outputs": [
    {
     "data": {
      "text/plain": [
       "<Axes: xlabel='title'>"
      ]
     },
     "execution_count": 220,
     "metadata": {},
     "output_type": "execute_result"
    },
    {
     "data": {
      "image/png": "[encoded data removed]",
      "text/plain": [
       "<Figure size 640x480 with 1 Axes>"
      ]
     },
     "metadata": {},
     "output_type": "display_data"
    }
   ],
   "source": [
    "#plotting a bar chart\n",
    "head.plot(x=\"title\", y=[\"domestic_gross\",\"foreign_gross\"], kind=\"bar\")"
   ]
  },
  {
   "attachments": {},
   "cell_type": "markdown",
   "id": "feae50d7",
   "metadata": {},
   "source": [
    "The domestic gross is higher than the foreign gross,this may because of reasons such consideration of the preferences and reviews of the people."
   ]
  },
  {
   "attachments": {},
   "cell_type": "markdown",
   "id": "e55c9aaa",
   "metadata": {},
   "source": [
    "#### 6.3 Movie datframe"
   ]
  },
  {
   "cell_type": "code",
   "execution_count": 207,
   "id": "0ed31a4e",
   "metadata": {
    "scrolled": true
   },
   "outputs": [
    {
     "data": {
      "text/html": [
       "<div>\n",
       "<style scoped>\n",
       "    .dataframe tbody tr th:only-of-type {\n",
       "        vertical-align: middle;\n",
       "    }\n",
       "\n",
       "    .dataframe tbody tr th {\n",
       "        vertical-align: top;\n",
       "    }\n",
       "\n",
       "    .dataframe thead th {\n",
       "        text-align: right;\n",
       "    }\n",
       "</style>\n",
       "<table border=\"1\" class=\"dataframe\">\n",
       "  <thead>\n",
       "    <tr style=\"text-align: right;\">\n",
       "      <th></th>\n",
       "      <th>title</th>\n",
       "      <th>popularity</th>\n",
       "    </tr>\n",
       "  </thead>\n",
       "  <tbody>\n",
       "    <tr>\n",
       "      <th>0</th>\n",
       "      <td>Harry Potter and the Deathly Hallows: Part 1</td>\n",
       "      <td>33.533</td>\n",
       "    </tr>\n",
       "    <tr>\n",
       "      <th>1</th>\n",
       "      <td>How to Train Your Dragon</td>\n",
       "      <td>28.734</td>\n",
       "    </tr>\n",
       "    <tr>\n",
       "      <th>2</th>\n",
       "      <td>Iron Man 2</td>\n",
       "      <td>28.515</td>\n",
       "    </tr>\n",
       "    <tr>\n",
       "      <th>3</th>\n",
       "      <td>Toy Story</td>\n",
       "      <td>28.005</td>\n",
       "    </tr>\n",
       "    <tr>\n",
       "      <th>4</th>\n",
       "      <td>Inception</td>\n",
       "      <td>27.920</td>\n",
       "    </tr>\n",
       "  </tbody>\n",
       "</table>\n",
       "</div>"
      ],
      "text/plain": [
       "                                          title  popularity\n",
       "0  Harry Potter and the Deathly Hallows: Part 1      33.533\n",
       "1                      How to Train Your Dragon      28.734\n",
       "2                                    Iron Man 2      28.515\n",
       "3                                     Toy Story      28.005\n",
       "4                                     Inception      27.920"
      ]
     },
     "execution_count": 207,
     "metadata": {},
     "output_type": "execute_result"
    }
   ],
   "source": [
    "#preview\n",
    "Movies_new.head()"
   ]
  },
  {
   "cell_type": "code",
   "execution_count": 211,
   "id": "6c71ab99",
   "metadata": {},
   "outputs": [
    {
     "data": {
      "text/plain": [
       "title         0\n",
       "popularity    0\n",
       "dtype: int64"
      ]
     },
     "execution_count": 211,
     "metadata": {},
     "output_type": "execute_result"
    }
   ],
   "source": [
    "#Checking for missing values\n",
    "Movies_new.isna().sum().head()"
   ]
  },
  {
   "attachments": {},
   "cell_type": "markdown",
   "id": "a070d7c4",
   "metadata": {},
   "source": [
    "The dataframe has no missing values"
   ]
  },
  {
   "cell_type": "code",
   "execution_count": 208,
   "id": "bf3799a9",
   "metadata": {
    "scrolled": true
   },
   "outputs": [
    {
     "data": {
      "text/plain": [
       "title          object\n",
       "popularity    float64\n",
       "dtype: object"
      ]
     },
     "execution_count": 208,
     "metadata": {},
     "output_type": "execute_result"
    }
   ],
   "source": [
    "#Checking the datatypes\n",
    "Movies_new.dtypes"
   ]
  },
  {
   "cell_type": "code",
   "execution_count": 227,
   "id": "86baa527",
   "metadata": {},
   "outputs": [
    {
     "data": {
      "text/plain": [
       "[]"
      ]
     },
     "execution_count": 227,
     "metadata": {},
     "output_type": "execute_result"
    },
    {
     "data": {
      "image/png": "[encoded data removed]",
      "text/plain": [
       "<Figure size 640x480 with 1 Axes>"
      ]
     },
     "metadata": {},
     "output_type": "display_data"
    }
   ],
   "source": [
    "b_plot = selected_few.boxplot(column = 'popularity') \n",
    "b_plot.plot()"
   ]
  },
  {
   "attachments": {},
   "cell_type": "markdown",
   "id": "7e44a5d1",
   "metadata": {},
   "source": [
    "#### 6.3 Ratings dataframe\n"
   ]
  },
  {
   "cell_type": "code",
   "execution_count": 229,
   "id": "980cc523",
   "metadata": {
    "scrolled": true
   },
   "outputs": [],
   "source": [
    "#previewratings_new.head()"
   ]
  },
  {
   "cell_type": "code",
   "execution_count": 210,
   "id": "2b64a58b",
   "metadata": {},
   "outputs": [
    {
     "data": {
      "text/plain": [
       "averagerating    float64\n",
       "numvotes           int64\n",
       "dtype: object"
      ]
     },
     "execution_count": 210,
     "metadata": {},
     "output_type": "execute_result"
    }
   ],
   "source": [
    "#Checking the data types\n",
    "ratings_new.dtypes"
   ]
  },
  {
   "cell_type": "code",
   "execution_count": 212,
   "id": "6231026e",
   "metadata": {},
   "outputs": [
    {
     "data": {
      "text/plain": [
       "title         0\n",
       "popularity    0\n",
       "dtype: int64"
      ]
     },
     "execution_count": 212,
     "metadata": {},
     "output_type": "execute_result"
    }
   ],
   "source": [
    "#Checking for missing values\n",
    "Movies_new.isna().sum().head()"
   ]
  },
  {
   "cell_type": "code",
   "execution_count": 234,
   "id": "43c6a6f4",
   "metadata": {},
   "outputs": [
    {
     "name": "stdout",
     "output_type": "stream",
     "text": [
      "Duplicate Rows :\n"
     ]
    },
    {
     "data": {
      "text/html": [
       "<div>\n",
       "<style scoped>\n",
       "    .dataframe tbody tr th:only-of-type {\n",
       "        vertical-align: middle;\n",
       "    }\n",
       "\n",
       "    .dataframe tbody tr th {\n",
       "        vertical-align: top;\n",
       "    }\n",
       "\n",
       "    .dataframe thead th {\n",
       "        text-align: right;\n",
       "    }\n",
       "</style>\n",
       "<table border=\"1\" class=\"dataframe\">\n",
       "  <thead>\n",
       "    <tr style=\"text-align: right;\">\n",
       "      <th></th>\n",
       "      <th>averagerating</th>\n",
       "      <th>numvotes</th>\n",
       "    </tr>\n",
       "  </thead>\n",
       "  <tbody>\n",
       "    <tr>\n",
       "      <th>120</th>\n",
       "      <td>6.8</td>\n",
       "      <td>20</td>\n",
       "    </tr>\n",
       "    <tr>\n",
       "      <th>195</th>\n",
       "      <td>7.2</td>\n",
       "      <td>6</td>\n",
       "    </tr>\n",
       "    <tr>\n",
       "      <th>199</th>\n",
       "      <td>6.8</td>\n",
       "      <td>23</td>\n",
       "    </tr>\n",
       "    <tr>\n",
       "      <th>205</th>\n",
       "      <td>7.7</td>\n",
       "      <td>6</td>\n",
       "    </tr>\n",
       "    <tr>\n",
       "      <th>217</th>\n",
       "      <td>8.1</td>\n",
       "      <td>9</td>\n",
       "    </tr>\n",
       "    <tr>\n",
       "      <th>...</th>\n",
       "      <td>...</td>\n",
       "      <td>...</td>\n",
       "    </tr>\n",
       "    <tr>\n",
       "      <th>73851</th>\n",
       "      <td>8.1</td>\n",
       "      <td>25</td>\n",
       "    </tr>\n",
       "    <tr>\n",
       "      <th>73852</th>\n",
       "      <td>7.5</td>\n",
       "      <td>24</td>\n",
       "    </tr>\n",
       "    <tr>\n",
       "      <th>73853</th>\n",
       "      <td>4.7</td>\n",
       "      <td>14</td>\n",
       "    </tr>\n",
       "    <tr>\n",
       "      <th>73854</th>\n",
       "      <td>7.0</td>\n",
       "      <td>5</td>\n",
       "    </tr>\n",
       "    <tr>\n",
       "      <th>73855</th>\n",
       "      <td>6.3</td>\n",
       "      <td>128</td>\n",
       "    </tr>\n",
       "  </tbody>\n",
       "</table>\n",
       "<p>45074 rows × 2 columns</p>\n",
       "</div>"
      ],
      "text/plain": [
       "       averagerating  numvotes\n",
       "120              6.8        20\n",
       "195              7.2         6\n",
       "199              6.8        23\n",
       "205              7.7         6\n",
       "217              8.1         9\n",
       "...              ...       ...\n",
       "73851            8.1        25\n",
       "73852            7.5        24\n",
       "73853            4.7        14\n",
       "73854            7.0         5\n",
       "73855            6.3       128\n",
       "\n",
       "[45074 rows x 2 columns]"
      ]
     },
     "execution_count": 234,
     "metadata": {},
     "output_type": "execute_result"
    }
   ],
   "source": [
    "duplicate = ratings_new[ratings_new.duplicated()]\n",
    " \n",
    "print(\"Duplicate Rows :\")\n",
    "duplicate"
   ]
  },
  {
   "attachments": {},
   "cell_type": "markdown",
   "id": "64bc3d47",
   "metadata": {},
   "source": [
    "The ratings dataset has 45074 duplicated rows but this may be due to the same ratings among the rating columns.thus the rows cannot be dropped"
   ]
  },
  {
   "attachments": {},
   "cell_type": "markdown",
   "id": "2d2b9f33",
   "metadata": {},
   "source": [
    "### 6.3.Merging the movies and ratings dataset"
   ]
  },
  {
   "cell_type": "code",
   "execution_count": 74,
   "id": "4aa4bf76",
   "metadata": {},
   "outputs": [
    {
     "data": {
      "text/html": [
       "<div>\n",
       "<style scoped>\n",
       "    .dataframe tbody tr th:only-of-type {\n",
       "        vertical-align: middle;\n",
       "    }\n",
       "\n",
       "    .dataframe tbody tr th {\n",
       "        vertical-align: top;\n",
       "    }\n",
       "\n",
       "    .dataframe thead th {\n",
       "        text-align: right;\n",
       "    }\n",
       "</style>\n",
       "<table border=\"1\" class=\"dataframe\">\n",
       "  <thead>\n",
       "    <tr style=\"text-align: right;\">\n",
       "      <th></th>\n",
       "      <th>title</th>\n",
       "      <th>popularity</th>\n",
       "      <th>averagerating</th>\n",
       "      <th>numvotes</th>\n",
       "      <th>title</th>\n",
       "      <th>domestic_gross</th>\n",
       "      <th>foreign_gross</th>\n",
       "    </tr>\n",
       "  </thead>\n",
       "  <tbody>\n",
       "    <tr>\n",
       "      <th>0</th>\n",
       "      <td>Harry Potter and the Deathly Hallows: Part 1</td>\n",
       "      <td>33.533</td>\n",
       "      <td>8.3</td>\n",
       "      <td>31</td>\n",
       "      <td>Toy Story 3</td>\n",
       "      <td>415000000.0</td>\n",
       "      <td>652000000</td>\n",
       "    </tr>\n",
       "    <tr>\n",
       "      <th>1</th>\n",
       "      <td>How to Train Your Dragon</td>\n",
       "      <td>28.734</td>\n",
       "      <td>8.9</td>\n",
       "      <td>559</td>\n",
       "      <td>Alice in Wonderland (2010)</td>\n",
       "      <td>334200000.0</td>\n",
       "      <td>691300000</td>\n",
       "    </tr>\n",
       "    <tr>\n",
       "      <th>2</th>\n",
       "      <td>Iron Man 2</td>\n",
       "      <td>28.515</td>\n",
       "      <td>6.4</td>\n",
       "      <td>20</td>\n",
       "      <td>Harry Potter and the Deathly Hallows Part 1</td>\n",
       "      <td>296000000.0</td>\n",
       "      <td>664300000</td>\n",
       "    </tr>\n",
       "    <tr>\n",
       "      <th>3</th>\n",
       "      <td>Toy Story</td>\n",
       "      <td>28.005</td>\n",
       "      <td>4.2</td>\n",
       "      <td>50352</td>\n",
       "      <td>Inception</td>\n",
       "      <td>292600000.0</td>\n",
       "      <td>535700000</td>\n",
       "    </tr>\n",
       "    <tr>\n",
       "      <th>4</th>\n",
       "      <td>Inception</td>\n",
       "      <td>27.920</td>\n",
       "      <td>6.5</td>\n",
       "      <td>21</td>\n",
       "      <td>Shrek Forever After</td>\n",
       "      <td>238700000.0</td>\n",
       "      <td>513900000</td>\n",
       "    </tr>\n",
       "    <tr>\n",
       "      <th>5</th>\n",
       "      <td>Percy Jackson &amp; the Olympians: The Lightning T...</td>\n",
       "      <td>26.691</td>\n",
       "      <td>6.2</td>\n",
       "      <td>326</td>\n",
       "      <td>The Twilight Saga: Eclipse</td>\n",
       "      <td>300500000.0</td>\n",
       "      <td>398000000</td>\n",
       "    </tr>\n",
       "    <tr>\n",
       "      <th>6</th>\n",
       "      <td>Avatar</td>\n",
       "      <td>26.526</td>\n",
       "      <td>7.0</td>\n",
       "      <td>1613</td>\n",
       "      <td>Iron Man 2</td>\n",
       "      <td>312400000.0</td>\n",
       "      <td>311500000</td>\n",
       "    </tr>\n",
       "    <tr>\n",
       "      <th>7</th>\n",
       "      <td>Toy Story 3</td>\n",
       "      <td>24.445</td>\n",
       "      <td>6.4</td>\n",
       "      <td>571</td>\n",
       "      <td>Tangled</td>\n",
       "      <td>200800000.0</td>\n",
       "      <td>391000000</td>\n",
       "    </tr>\n",
       "    <tr>\n",
       "      <th>8</th>\n",
       "      <td>Despicable Me</td>\n",
       "      <td>23.673</td>\n",
       "      <td>7.2</td>\n",
       "      <td>265</td>\n",
       "      <td>Despicable Me</td>\n",
       "      <td>251500000.0</td>\n",
       "      <td>291600000</td>\n",
       "    </tr>\n",
       "    <tr>\n",
       "      <th>9</th>\n",
       "      <td>Megamind</td>\n",
       "      <td>22.855</td>\n",
       "      <td>4.2</td>\n",
       "      <td>148</td>\n",
       "      <td>How to Train Your Dragon</td>\n",
       "      <td>217600000.0</td>\n",
       "      <td>277300000</td>\n",
       "    </tr>\n",
       "  </tbody>\n",
       "</table>\n",
       "</div>"
      ],
      "text/plain": [
       "                                               title  popularity   \n",
       "0       Harry Potter and the Deathly Hallows: Part 1      33.533  \\\n",
       "1                           How to Train Your Dragon      28.734   \n",
       "2                                         Iron Man 2      28.515   \n",
       "3                                          Toy Story      28.005   \n",
       "4                                          Inception      27.920   \n",
       "5  Percy Jackson & the Olympians: The Lightning T...      26.691   \n",
       "6                                             Avatar      26.526   \n",
       "7                                        Toy Story 3      24.445   \n",
       "8                                      Despicable Me      23.673   \n",
       "9                                           Megamind      22.855   \n",
       "\n",
       "   averagerating  numvotes                                        title   \n",
       "0            8.3        31                                  Toy Story 3  \\\n",
       "1            8.9       559                   Alice in Wonderland (2010)   \n",
       "2            6.4        20  Harry Potter and the Deathly Hallows Part 1   \n",
       "3            4.2     50352                                    Inception   \n",
       "4            6.5        21                          Shrek Forever After   \n",
       "5            6.2       326                   The Twilight Saga: Eclipse   \n",
       "6            7.0      1613                                   Iron Man 2   \n",
       "7            6.4       571                                      Tangled   \n",
       "8            7.2       265                                Despicable Me   \n",
       "9            4.2       148                     How to Train Your Dragon   \n",
       "\n",
       "   domestic_gross foreign_gross  \n",
       "0     415000000.0     652000000  \n",
       "1     334200000.0     691300000  \n",
       "2     296000000.0     664300000  \n",
       "3     292600000.0     535700000  \n",
       "4     238700000.0     513900000  \n",
       "5     300500000.0     398000000  \n",
       "6     312400000.0     311500000  \n",
       "7     200800000.0     391000000  \n",
       "8     251500000.0     291600000  \n",
       "9     217600000.0     277300000  "
      ]
     },
     "execution_count": 74,
     "metadata": {},
     "output_type": "execute_result"
    }
   ],
   "source": [
    "result = pd.concat([Movies_new,ratings_new,gross_new], axis=1, join='inner')\n",
    "result.head(10)"
   ]
  },
  {
   "cell_type": "code",
   "execution_count": 68,
   "id": "f8117c59",
   "metadata": {},
   "outputs": [
    {
     "data": {
      "text/html": [
       "<div>\n",
       "<style scoped>\n",
       "    .dataframe tbody tr th:only-of-type {\n",
       "        vertical-align: middle;\n",
       "    }\n",
       "\n",
       "    .dataframe tbody tr th {\n",
       "        vertical-align: top;\n",
       "    }\n",
       "\n",
       "    .dataframe thead th {\n",
       "        text-align: right;\n",
       "    }\n",
       "</style>\n",
       "<table border=\"1\" class=\"dataframe\">\n",
       "  <thead>\n",
       "    <tr style=\"text-align: right;\">\n",
       "      <th></th>\n",
       "      <th>title</th>\n",
       "      <th>popularity</th>\n",
       "      <th>averagerating</th>\n",
       "      <th>numvotes</th>\n",
       "    </tr>\n",
       "  </thead>\n",
       "  <tbody>\n",
       "    <tr>\n",
       "      <th>109</th>\n",
       "      <td>The Babysitters</td>\n",
       "      <td>10.710</td>\n",
       "      <td>6.8</td>\n",
       "      <td>20</td>\n",
       "    </tr>\n",
       "    <tr>\n",
       "      <th>110</th>\n",
       "      <td>District 13: Ultimatum</td>\n",
       "      <td>10.661</td>\n",
       "      <td>8.0</td>\n",
       "      <td>53</td>\n",
       "    </tr>\n",
       "    <tr>\n",
       "      <th>111</th>\n",
       "      <td>[REC]²</td>\n",
       "      <td>10.660</td>\n",
       "      <td>5.8</td>\n",
       "      <td>821</td>\n",
       "    </tr>\n",
       "    <tr>\n",
       "      <th>112</th>\n",
       "      <td>Open Season 3</td>\n",
       "      <td>10.614</td>\n",
       "      <td>7.2</td>\n",
       "      <td>395</td>\n",
       "    </tr>\n",
       "    <tr>\n",
       "      <th>113</th>\n",
       "      <td>Morning Glory</td>\n",
       "      <td>10.595</td>\n",
       "      <td>7.1</td>\n",
       "      <td>224</td>\n",
       "    </tr>\n",
       "    <tr>\n",
       "      <th>114</th>\n",
       "      <td>Harry Brown</td>\n",
       "      <td>10.555</td>\n",
       "      <td>5.5</td>\n",
       "      <td>382</td>\n",
       "    </tr>\n",
       "    <tr>\n",
       "      <th>115</th>\n",
       "      <td>Cats &amp; Dogs: The Revenge of Kitty Galore</td>\n",
       "      <td>10.544</td>\n",
       "      <td>5.6</td>\n",
       "      <td>55</td>\n",
       "    </tr>\n",
       "    <tr>\n",
       "      <th>116</th>\n",
       "      <td>The Fighter</td>\n",
       "      <td>10.395</td>\n",
       "      <td>7.9</td>\n",
       "      <td>71</td>\n",
       "    </tr>\n",
       "    <tr>\n",
       "      <th>117</th>\n",
       "      <td>9 Songs</td>\n",
       "      <td>10.332</td>\n",
       "      <td>4.9</td>\n",
       "      <td>137</td>\n",
       "    </tr>\n",
       "    <tr>\n",
       "      <th>118</th>\n",
       "      <td>The Tourist</td>\n",
       "      <td>10.307</td>\n",
       "      <td>7.0</td>\n",
       "      <td>7</td>\n",
       "    </tr>\n",
       "    <tr>\n",
       "      <th>119</th>\n",
       "      <td>The Cutting Edge: Fire &amp; Ice</td>\n",
       "      <td>10.303</td>\n",
       "      <td>7.0</td>\n",
       "      <td>85839</td>\n",
       "    </tr>\n",
       "    <tr>\n",
       "      <th>120</th>\n",
       "      <td>Forbidden Planet</td>\n",
       "      <td>10.274</td>\n",
       "      <td>6.8</td>\n",
       "      <td>20</td>\n",
       "    </tr>\n",
       "  </tbody>\n",
       "</table>\n",
       "</div>"
      ],
      "text/plain": [
       "                                        title  popularity  averagerating   \n",
       "109                           The Babysitters      10.710            6.8  \\\n",
       "110                    District 13: Ultimatum      10.661            8.0   \n",
       "111                                    [REC]²      10.660            5.8   \n",
       "112                             Open Season 3      10.614            7.2   \n",
       "113                             Morning Glory      10.595            7.1   \n",
       "114                               Harry Brown      10.555            5.5   \n",
       "115  Cats & Dogs: The Revenge of Kitty Galore      10.544            5.6   \n",
       "116                               The Fighter      10.395            7.9   \n",
       "117                                   9 Songs      10.332            4.9   \n",
       "118                               The Tourist      10.307            7.0   \n",
       "119              The Cutting Edge: Fire & Ice      10.303            7.0   \n",
       "120                          Forbidden Planet      10.274            6.8   \n",
       "\n",
       "     numvotes  \n",
       "109        20  \n",
       "110        53  \n",
       "111       821  \n",
       "112       395  \n",
       "113       224  \n",
       "114       382  \n",
       "115        55  \n",
       "116        71  \n",
       "117       137  \n",
       "118         7  \n",
       "119     85839  \n",
       "120        20  "
      ]
     },
     "execution_count": 68,
     "metadata": {},
     "output_type": "execute_result"
    }
   ],
   "source": [
    "#selecting a few rows\n",
    "range8=result.loc[109:120]\n",
    "range8"
   ]
  },
  {
   "cell_type": "code",
   "execution_count": 69,
   "id": "8176024b",
   "metadata": {},
   "outputs": [
    {
     "data": {
      "text/plain": [
       "<Axes: >"
      ]
     },
     "execution_count": 69,
     "metadata": {},
     "output_type": "execute_result"
    },
    {
     "data": {
      "image/png": "[encoded data removed]",
      "text/plain": [
       "<Figure size 640x480 with 1 Axes>"
      ]
     },
     "metadata": {},
     "output_type": "display_data"
    }
   ],
   "source": [
    "range8.plot(x=None, y=[\"popularity\" , \"averagerating\"] ,kind=\"bar\")"
   ]
  },
  {
   "attachments": {},
   "cell_type": "markdown",
   "id": "c168a01c",
   "metadata": {},
   "source": [
    "From the above figure , a film can be popular but have a lower rating"
   ]
  },
  {
   "attachments": {},
   "cell_type": "markdown",
   "id": "84a5beb2",
   "metadata": {},
   "source": [
    "## 7.conclusions\n",
    "  - A high budget is necessary for a productive and successful film at the box office but that may not be the case when              important factors        such film marketing are considered.\n",
    "  - For a film to perform well worldwide it has to perfom well domesticaly\n",
    "  - A low production budget does not necessary ,there are cases where the film performs well worldwide and domestically\n",
    "  - A high rating does not necesserarily mean a film is popular ."
   ]
  },
  {
   "attachments": {},
   "cell_type": "markdown",
   "id": "07805222",
   "metadata": {},
   "source": [
    "## 8.Recommedations\n",
    "-  The company should invest on films with a high production budget.This will help create a well-written script, hire excellent actors who can connect       with the audience and hire visionary director and producers.\n",
    "  - The company should consider incoperating the audience reviews.By doing this ,they will get to have a better understanding of the              audience tastes and preferences as well understand what they fantasies are.\n",
    "  - The company should invest on properly Marketed films .This can be done for example by having well known actors having the lead roles or cameos     in the films.This increases the popularity attracting a lot of audience in the Cinemas.\n",
    "  - The company should invest on films with experienced cast and crew .This will help to  ensure that the actors are contributing to making the director's vision a reality       and a success. \n",
    "  - The company should invest on films popular among the audience i.e a big fan base."
   ]
  },
  {
   "cell_type": "code",
   "execution_count": null,
   "id": "79f27399",
   "metadata": {},
   "outputs": [],
   "source": []
  }
 ],
 "metadata": {
  "kernelspec": {
   "display_name": "Python 3 (ipykernel)",
   "language": "python",
   "name": "python3"
  },
  "language_info": {
   "codemirror_mode": {
    "name": "ipython",
    "version": 3
   },
   "file_extension": ".py",
   "mimetype": "text/x-python",
   "name": "python",
   "nbconvert_exporter": "python",
   "pygments_lexer": "ipython3",
   "version": "3.10.11"
  }
 },
 "nbformat": 4,
 "nbformat_minor": 5
}
